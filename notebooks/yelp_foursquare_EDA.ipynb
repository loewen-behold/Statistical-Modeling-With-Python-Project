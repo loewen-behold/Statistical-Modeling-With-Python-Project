{
 "cells": [
  {
   "cell_type": "code",
<<<<<<< HEAD
   "execution_count": null,
   "metadata": {},
   "outputs": [],
   "source": [
    "# imports"
=======
   "execution_count": 503,
   "metadata": {
    "tags": []
   },
   "outputs": [],
   "source": [
    "# imports\n",
    "import requests\n",
    "import pandas as pd\n",
    "import os\n",
    "import json"
>>>>>>> 92154ef (Initial commit)
   ]
  },
  {
   "cell_type": "markdown",
   "metadata": {},
   "source": [
<<<<<<< HEAD
=======
    "## Read the csv created in part 1 and convert back to dataframe"
   ]
  },
  {
   "cell_type": "code",
   "execution_count": 504,
   "metadata": {},
   "outputs": [],
   "source": [
    "df_tbs = pd.read_csv('../data/df_tbs.csv', index_col=0)"
   ]
  },
  {
   "cell_type": "code",
   "execution_count": 505,
   "metadata": {},
   "outputs": [
    {
     "data": {
      "text/html": [
       "<div>\n",
       "<style scoped>\n",
       "    .dataframe tbody tr th:only-of-type {\n",
       "        vertical-align: middle;\n",
       "    }\n",
       "\n",
       "    .dataframe tbody tr th {\n",
       "        vertical-align: top;\n",
       "    }\n",
       "\n",
       "    .dataframe thead th {\n",
       "        text-align: right;\n",
       "    }\n",
       "</style>\n",
       "<table border=\"1\" class=\"dataframe\">\n",
       "  <thead>\n",
       "    <tr style=\"text-align: right;\">\n",
       "      <th></th>\n",
       "      <th>station_id</th>\n",
       "      <th>name</th>\n",
       "      <th>latitude</th>\n",
       "      <th>longitude</th>\n",
       "      <th>number of bikes</th>\n",
       "    </tr>\n",
       "  </thead>\n",
       "  <tbody>\n",
       "    <tr>\n",
       "      <th>0</th>\n",
       "      <td>7000</td>\n",
       "      <td>Fort York  Blvd / Capreol Ct</td>\n",
       "      <td>43.639832</td>\n",
       "      <td>-79.395954</td>\n",
       "      <td>34</td>\n",
       "    </tr>\n",
       "    <tr>\n",
       "      <th>1</th>\n",
       "      <td>7001</td>\n",
       "      <td>Wellesley Station Green P</td>\n",
       "      <td>43.664964</td>\n",
       "      <td>-79.383550</td>\n",
       "      <td>16</td>\n",
       "    </tr>\n",
       "    <tr>\n",
       "      <th>2</th>\n",
       "      <td>7002</td>\n",
       "      <td>St. George St / Bloor St W</td>\n",
       "      <td>43.667333</td>\n",
       "      <td>-79.399429</td>\n",
       "      <td>3</td>\n",
       "    </tr>\n",
       "    <tr>\n",
       "      <th>3</th>\n",
       "      <td>7003</td>\n",
       "      <td>Madison Ave / Bloor St W</td>\n",
       "      <td>43.667158</td>\n",
       "      <td>-79.402761</td>\n",
       "      <td>4</td>\n",
       "    </tr>\n",
       "    <tr>\n",
       "      <th>4</th>\n",
       "      <td>7004</td>\n",
       "      <td>University Ave / Elm St</td>\n",
       "      <td>43.656518</td>\n",
       "      <td>-79.389099</td>\n",
       "      <td>0</td>\n",
       "    </tr>\n",
       "  </tbody>\n",
       "</table>\n",
       "</div>"
      ],
      "text/plain": [
       "   station_id                          name   latitude  longitude  \\\n",
       "0        7000  Fort York  Blvd / Capreol Ct  43.639832 -79.395954   \n",
       "1        7001     Wellesley Station Green P  43.664964 -79.383550   \n",
       "2        7002    St. George St / Bloor St W  43.667333 -79.399429   \n",
       "3        7003      Madison Ave / Bloor St W  43.667158 -79.402761   \n",
       "4        7004       University Ave / Elm St  43.656518 -79.389099   \n",
       "\n",
       "   number of bikes  \n",
       "0               34  \n",
       "1               16  \n",
       "2                3  \n",
       "3                4  \n",
       "4                0  "
      ]
     },
     "execution_count": 505,
     "metadata": {},
     "output_type": "execute_result"
    }
   ],
   "source": [
    "df_tbs.head()"
   ]
  },
  {
   "cell_type": "markdown",
   "metadata": {
    "tags": []
   },
   "source": [
>>>>>>> 92154ef (Initial commit)
    "# Foursquare"
   ]
  },
  {
   "cell_type": "markdown",
   "metadata": {},
   "source": [
    "Send a request to Foursquare with a small radius (1000m) for all the bike stations in your city of choice. "
   ]
  },
  {
   "cell_type": "code",
<<<<<<< HEAD
   "execution_count": null,
   "metadata": {},
   "outputs": [],
   "source": []
=======
   "execution_count": 506,
   "metadata": {},
   "outputs": [],
   "source": [
    "FOURSQUARE_KEY = os.getenv('FOURSQUARE_API_KEY')"
   ]
  },
  {
   "cell_type": "code",
   "execution_count": 507,
   "metadata": {},
   "outputs": [],
   "source": [
    "def get_venues_fs(latitude, longitude, radius, api_key, categories, limit):\n",
    "    \n",
    "    base_url = 'https://api.foursquare.com/v3/places/search'\n",
    "\n",
    "    params = {\n",
    "        'll': f\"{latitude},{longitude}\",  # Latitude and longitude of the center\n",
    "        'radius': radius,  # Radius of 1km\n",
    "        'fields': categories,\n",
    "        'limit': limit\n",
    "    }\n",
    "\n",
    "    headers = {\n",
    "        'Accept': 'application/json',\n",
    "        'Authorization': api_key\n",
    "    }\n",
    "\n",
    "    response = requests.get(base_url, params=params, headers=headers)\n",
    "\n",
    "    return response.json()"
   ]
>>>>>>> 92154ef (Initial commit)
  },
  {
   "cell_type": "markdown",
   "metadata": {},
   "source": [
<<<<<<< HEAD
    "Parse through the response to get the POI (such as restaurants, bars, etc) details you want (ratings, name, location, etc)"
=======
    "### The code below makes multiple calls to the function \"get_venues_fs\" above, and creates a dataframe from the returned results from each API call for each bike station's longitude and latitude.  It also creates a JSON file with all of the results as well in case something goes wrong with the altering of the dataframe later.  I parsed through the individually returned JSON files in order to extract the information I wanted, turned this information into lists, and then created a dataframe with these lists."
   ]
  },
  {
   "cell_type": "markdown",
   "metadata": {},
   "source": [
    "## **Please do not run the code in the next two blocks** \n",
    "## My original dataframe and JSON created from executing this code have been saved in the \"data\" folder.  However, in the event that this code is executed by the marker by accident, I've commented out the code and changed the file path to make sure any new results are saved into the current \"notebooks\" folder instead of the \"data\" folder so the orginal files are not overwritten."
   ]
  },
  {
   "cell_type": "code",
   "execution_count": 508,
   "metadata": {},
   "outputs": [
    {
     "data": {
      "text/plain": [
       "\"\\n# Initialize DataFrame and other data structures\\nFS_POI_info = pd.DataFrame(columns=['name', 'fsq_id', 'station_id', 'latitude', 'longitude', 'distance', 'categories', 'rating', 'total ratings', 'popularity', 'price rating', 'tastes'])\\nall_results_FS = []\\n\\nfor i in range(len(df_tbs)):\\n    latitude = df_tbs['latitude'][i]\\n    longitude = df_tbs['longitude'][i]\\n\\n    res = get_venues_fs(latitude=latitude, longitude=longitude, radius=1000, api_key=FOURSQUARE_KEY, categories='name,rating,geocodes,distance,fsq_id,categories,stats,popularity,price,tastes', limit=50)\\n\\n    current_station_id = df_tbs['station_id'][i]\\n    station_id = []\\n    name = []\\n    fsq_id = []\\n    rating = []\\n    latitude = []\\n    longitude = []\\n    distance = []\\n    categories = []\\n    total_ratings = []\\n    popularity = []\\n    price = []\\n    tastes = []\\n\\n    for venue in res['results']:\\n        name.append(venue['name'])\\n        fsq_id.append(venue['fsq_id'])\\n        \\n        if 'main' in venue['geocodes']:\\n            latitude.append(venue['geocodes']['main']['latitude'])\\n            longitude.append(venue['geocodes']['main']['longitude'])\\n        else:\\n            latitude.append(0)\\n            longitude.append(0)\\n            \\n        distance.append(venue['distance'])\\n        \\n        if 'rating' in venue:\\n            rating.append(venue['rating'])\\n        else:\\n            rating.append(None)\\n            \\n        if 'stats' in venue:\\n            total_ratings.append(venue['stats']['total_ratings'])\\n        else:\\n            total_ratings.append(0)\\n            \\n        if 'popularity' in venue:\\n            popularity.append(venue['popularity'])\\n        else:\\n            popularity.append(None)\\n\\n        if 'price' in venue:\\n            price.append(venue['price'])\\n        else:\\n            price.append(0)\\n\\n        if 'tastes' in venue:\\n            tastes.append(venue['tastes'])\\n        else:\\n            tastes.append([])\\n\\n        cat_list = []\\n        for category in venue['categories']:\\n            cat_list.append(category['name'])\\n        categories.append(cat_list)\\n\\n    for i in range(len(fsq_id)):\\n        station_id.append(current_station_id)\\n\\n    FS_POI_data = {'name':name, 'fsq_id':fsq_id, 'station_id':station_id, 'latitude':latitude, 'longitude':longitude, 'distance':distance, \\n                   'categories':categories, 'rating':rating, 'total ratings':total_ratings, 'popularity':popularity, 'price rating': price, \\n                   'tastes':tastes}\\n    \\n    station_POI_data = pd.DataFrame(FS_POI_data)\\n    \\n    FS_POI_info = pd.concat([FS_POI_info, station_POI_data], ignore_index=True)\\n\\n    all_results_FS.extend(res['results'])\\n\\n# Save DataFrame to JSON\\nwith open('FS_POI_info.json', 'w') as json_file:\\n    json.dump(all_results_FS, json_file)\\n\""
      ]
     },
     "execution_count": 508,
     "metadata": {},
     "output_type": "execute_result"
    }
   ],
   "source": [
    "\"\"\"\n",
    "# Initialize DataFrame and other data structures\n",
    "FS_POI_info = pd.DataFrame(columns=['name', 'fsq_id', 'station_id', 'latitude', 'longitude', 'distance', 'categories', 'rating', 'total ratings', 'popularity', 'price rating', 'tastes'])\n",
    "all_results_FS = []\n",
    "\n",
    "for i in range(len(df_tbs)):\n",
    "    latitude = df_tbs['latitude'][i]\n",
    "    longitude = df_tbs['longitude'][i]\n",
    "\n",
    "    res = get_venues_fs(latitude=latitude, longitude=longitude, radius=1000, api_key=FOURSQUARE_KEY, categories='name,rating,geocodes,distance,fsq_id,categories,stats,popularity,price,tastes', limit=50)\n",
    "\n",
    "    current_station_id = df_tbs['station_id'][i]\n",
    "    station_id = []\n",
    "    name = []\n",
    "    fsq_id = []\n",
    "    rating = []\n",
    "    latitude = []\n",
    "    longitude = []\n",
    "    distance = []\n",
    "    categories = []\n",
    "    total_ratings = []\n",
    "    popularity = []\n",
    "    price = []\n",
    "    tastes = []\n",
    "\n",
    "    for venue in res['results']:\n",
    "        name.append(venue['name'])\n",
    "        fsq_id.append(venue['fsq_id'])\n",
    "        \n",
    "        if 'main' in venue['geocodes']:\n",
    "            latitude.append(venue['geocodes']['main']['latitude'])\n",
    "            longitude.append(venue['geocodes']['main']['longitude'])\n",
    "        else:\n",
    "            latitude.append(0)\n",
    "            longitude.append(0)\n",
    "            \n",
    "        distance.append(venue['distance'])\n",
    "        \n",
    "        if 'rating' in venue:\n",
    "            rating.append(venue['rating'])\n",
    "        else:\n",
    "            rating.append(None)\n",
    "            \n",
    "        if 'stats' in venue:\n",
    "            total_ratings.append(venue['stats']['total_ratings'])\n",
    "        else:\n",
    "            total_ratings.append(0)\n",
    "            \n",
    "        if 'popularity' in venue:\n",
    "            popularity.append(venue['popularity'])\n",
    "        else:\n",
    "            popularity.append(None)\n",
    "\n",
    "        if 'price' in venue:\n",
    "            price.append(venue['price'])\n",
    "        else:\n",
    "            price.append(0)\n",
    "\n",
    "        if 'tastes' in venue:\n",
    "            tastes.append(venue['tastes'])\n",
    "        else:\n",
    "            tastes.append([])\n",
    "\n",
    "        cat_list = []\n",
    "        for category in venue['categories']:\n",
    "            cat_list.append(category['name'])\n",
    "        categories.append(cat_list)\n",
    "\n",
    "    for i in range(len(fsq_id)):\n",
    "        station_id.append(current_station_id)\n",
    "\n",
    "    FS_POI_data = {'name':name, 'fsq_id':fsq_id, 'station_id':station_id, 'latitude':latitude, 'longitude':longitude, 'distance':distance, \n",
    "                   'categories':categories, 'rating':rating, 'total ratings':total_ratings, 'popularity':popularity, 'price rating': price, \n",
    "                   'tastes':tastes}\n",
    "    \n",
    "    station_POI_data = pd.DataFrame(FS_POI_data)\n",
    "    \n",
    "    FS_POI_info = pd.concat([FS_POI_info, station_POI_data], ignore_index=True)\n",
    "\n",
    "    all_results_FS.extend(res['results'])\n",
    "\n",
    "# Save DataFrame to JSON\n",
    "with open('FS_POI_info.json', 'w') as json_file:\n",
    "    json.dump(all_results_FS, json_file)\n",
    "\"\"\""
   ]
  },
  {
   "cell_type": "code",
   "execution_count": 509,
   "metadata": {
    "tags": []
   },
   "outputs": [
    {
     "data": {
      "text/plain": [
       "\"\\nFS_POI_info.to_csv('FS_POI_info.csv', index=False)\\n\""
      ]
     },
     "execution_count": 509,
     "metadata": {},
     "output_type": "execute_result"
    }
   ],
   "source": [
    "\"\"\"\n",
    "FS_POI_info.to_csv('FS_POI_info.csv', index=False)\n",
    "\"\"\""
>>>>>>> 92154ef (Initial commit)
   ]
  },
  {
   "cell_type": "code",
   "execution_count": null,
   "metadata": {},
   "outputs": [],
   "source": []
  },
  {
   "cell_type": "markdown",
   "metadata": {},
   "source": [
<<<<<<< HEAD
    "Put your parsed results into a DataFrame"
=======
    "## You may run the code below in order to access the dataframe \"FS_POI_info\" that was created with the code above"
>>>>>>> 92154ef (Initial commit)
   ]
  },
  {
   "cell_type": "code",
<<<<<<< HEAD
=======
   "execution_count": 510,
   "metadata": {},
   "outputs": [],
   "source": [
    "FS_POI_info = pd.read_csv('../data/FS_POI_info.csv')"
   ]
  },
  {
   "cell_type": "code",
   "execution_count": 511,
   "metadata": {
    "tags": []
   },
   "outputs": [
    {
     "data": {
      "text/html": [
       "<div>\n",
       "<style scoped>\n",
       "    .dataframe tbody tr th:only-of-type {\n",
       "        vertical-align: middle;\n",
       "    }\n",
       "\n",
       "    .dataframe tbody tr th {\n",
       "        vertical-align: top;\n",
       "    }\n",
       "\n",
       "    .dataframe thead th {\n",
       "        text-align: right;\n",
       "    }\n",
       "</style>\n",
       "<table border=\"1\" class=\"dataframe\">\n",
       "  <thead>\n",
       "    <tr style=\"text-align: right;\">\n",
       "      <th></th>\n",
       "      <th>name</th>\n",
       "      <th>fsq_id</th>\n",
       "      <th>station_id</th>\n",
       "      <th>latitude</th>\n",
       "      <th>longitude</th>\n",
       "      <th>distance</th>\n",
       "      <th>categories</th>\n",
       "      <th>rating</th>\n",
       "      <th>total ratings</th>\n",
       "      <th>popularity</th>\n",
       "      <th>price rating</th>\n",
       "      <th>tastes</th>\n",
       "    </tr>\n",
       "  </thead>\n",
       "  <tbody>\n",
       "    <tr>\n",
       "      <th>0</th>\n",
       "      <td>CAFE Dispensary</td>\n",
       "      <td>59d19c050c9f3155d662a0c8</td>\n",
       "      <td>7000</td>\n",
       "      <td>43.640050</td>\n",
       "      <td>-79.396376</td>\n",
       "      <td>40</td>\n",
       "      <td>['Café']</td>\n",
       "      <td>7.8</td>\n",
       "      <td>8</td>\n",
       "      <td>0.826702</td>\n",
       "      <td>1</td>\n",
       "      <td>[]</td>\n",
       "    </tr>\n",
       "    <tr>\n",
       "      <th>1</th>\n",
       "      <td>Hunters Landing</td>\n",
       "      <td>523a2355498e1d680be63936</td>\n",
       "      <td>7000</td>\n",
       "      <td>43.639971</td>\n",
       "      <td>-79.396690</td>\n",
       "      <td>69</td>\n",
       "      <td>['Restaurant', 'Bar']</td>\n",
       "      <td>7.4</td>\n",
       "      <td>184</td>\n",
       "      <td>0.963629</td>\n",
       "      <td>3</td>\n",
       "      <td>['bar', 'scenic views', 'salads', 'lunch', 'br...</td>\n",
       "    </tr>\n",
       "    <tr>\n",
       "      <th>2</th>\n",
       "      <td>Sansotei Ramen</td>\n",
       "      <td>5b12b96b31ac6c00397662c0</td>\n",
       "      <td>7000</td>\n",
       "      <td>43.639073</td>\n",
       "      <td>-79.398230</td>\n",
       "      <td>193</td>\n",
       "      <td>['Ramen Restaurant']</td>\n",
       "      <td>8.5</td>\n",
       "      <td>21</td>\n",
       "      <td>0.913721</td>\n",
       "      <td>0</td>\n",
       "      <td>[]</td>\n",
       "    </tr>\n",
       "    <tr>\n",
       "      <th>3</th>\n",
       "      <td>Canoe Landing Park</td>\n",
       "      <td>4bdde5056198c9b61a1c12ff</td>\n",
       "      <td>7000</td>\n",
       "      <td>43.638742</td>\n",
       "      <td>-79.397383</td>\n",
       "      <td>148</td>\n",
       "      <td>['Park']</td>\n",
       "      <td>7.6</td>\n",
       "      <td>33</td>\n",
       "      <td>0.984278</td>\n",
       "      <td>0</td>\n",
       "      <td>['scenic views', 'lakes']</td>\n",
       "    </tr>\n",
       "    <tr>\n",
       "      <th>4</th>\n",
       "      <td>Roywoods</td>\n",
       "      <td>56f6ee66498e7f811a135ddd</td>\n",
       "      <td>7000</td>\n",
       "      <td>43.638994</td>\n",
       "      <td>-79.398544</td>\n",
       "      <td>216</td>\n",
       "      <td>['Caribbean Restaurant', 'Sandwich Spot']</td>\n",
       "      <td>8.3</td>\n",
       "      <td>15</td>\n",
       "      <td>0.945704</td>\n",
       "      <td>2</td>\n",
       "      <td>[]</td>\n",
       "    </tr>\n",
       "  </tbody>\n",
       "</table>\n",
       "</div>"
      ],
      "text/plain": [
       "                 name                    fsq_id  station_id   latitude  \\\n",
       "0     CAFE Dispensary  59d19c050c9f3155d662a0c8        7000  43.640050   \n",
       "1     Hunters Landing  523a2355498e1d680be63936        7000  43.639971   \n",
       "2      Sansotei Ramen  5b12b96b31ac6c00397662c0        7000  43.639073   \n",
       "3  Canoe Landing Park  4bdde5056198c9b61a1c12ff        7000  43.638742   \n",
       "4            Roywoods  56f6ee66498e7f811a135ddd        7000  43.638994   \n",
       "\n",
       "   longitude  distance                                 categories  rating  \\\n",
       "0 -79.396376        40                                   ['Café']     7.8   \n",
       "1 -79.396690        69                      ['Restaurant', 'Bar']     7.4   \n",
       "2 -79.398230       193                       ['Ramen Restaurant']     8.5   \n",
       "3 -79.397383       148                                   ['Park']     7.6   \n",
       "4 -79.398544       216  ['Caribbean Restaurant', 'Sandwich Spot']     8.3   \n",
       "\n",
       "   total ratings  popularity  price rating  \\\n",
       "0              8    0.826702             1   \n",
       "1            184    0.963629             3   \n",
       "2             21    0.913721             0   \n",
       "3             33    0.984278             0   \n",
       "4             15    0.945704             2   \n",
       "\n",
       "                                              tastes  \n",
       "0                                                 []  \n",
       "1  ['bar', 'scenic views', 'salads', 'lunch', 'br...  \n",
       "2                                                 []  \n",
       "3                          ['scenic views', 'lakes']  \n",
       "4                                                 []  "
      ]
     },
     "execution_count": 511,
     "metadata": {},
     "output_type": "execute_result"
    }
   ],
   "source": [
    "FS_POI_info.head()"
   ]
  },
  {
   "cell_type": "code",
   "execution_count": null,
   "metadata": {},
   "outputs": [],
   "source": []
  },
  {
   "cell_type": "code",
>>>>>>> 92154ef (Initial commit)
   "execution_count": null,
   "metadata": {},
   "outputs": [],
   "source": []
  },
  {
   "cell_type": "markdown",
   "metadata": {},
   "source": [
    "# Yelp"
   ]
  },
  {
   "cell_type": "markdown",
   "metadata": {},
   "source": [
<<<<<<< HEAD
    "Send a request to Yelp with a small radius (1000m) for all the bike stations in your city of choice. "
=======
    "### Send a request to Yelp with a small radius (1000m) for all the bike stations in your city of choice. "
   ]
  },
  {
   "cell_type": "code",
   "execution_count": 512,
   "metadata": {},
   "outputs": [],
   "source": [
    "YELP_KEY = os.getenv('YELP_API_KEY')"
   ]
  },
  {
   "cell_type": "code",
   "execution_count": 513,
   "metadata": {},
   "outputs": [],
   "source": [
    "def get_venues_yelp(latitude, longitude, radius, api_key, categories, limit):\n",
    "    \n",
    "    base_url = \"https://api.yelp.com/v3/businesses/search\"\n",
    "\n",
    "    params = {\n",
    "        'latitude': latitude,\n",
    "        'longitude': longitude,\n",
    "        'radius': radius,  # Radius of 1km\n",
    "        'limit': limit,\n",
    "        'sort_by': 'distance'\n",
    "        }\n",
    "\n",
    "    headers = {\n",
    "        \"accept\": \"application/json\",\n",
    "        \"Authorization\": f\"Bearer {api_key}\"\n",
    "        }\n",
    "\n",
    "    results = requests.get(base_url, params=params, headers=headers)\n",
    "    \n",
    "    return results.json()"
   ]
  },
  {
   "cell_type": "markdown",
   "metadata": {},
   "source": [
    "### Since there are only 500 API calls per day allowed for yelp, I've had to split the toronto bike stations df (df_tbs) in half, the two halves queried over 2 days since there are 689 bike stations in Toronto"
   ]
  },
  {
   "cell_type": "markdown",
   "metadata": {},
   "source": [
    "## **Please do not run the code in the next two blocks** \n",
    "## My original dataframe and JSON created from executing this code have been saved in the \"data\" folder.  However, in the event that this code is executed by the marker by accident, I've commented out the code and changed the file path to make sure any new results are saved into the current \"notebooks\" folder instead of the \"data\" folder so the orginal files are not overwritten."
   ]
  },
  {
   "cell_type": "code",
   "execution_count": 514,
   "metadata": {},
   "outputs": [
    {
     "data": {
      "text/plain": [
       "\"\\nYELP_POI_info = pd.DataFrame(columns = ['name', 'yelp_id', 'station_id', 'latitude', 'longitude', 'distance', 'categories', 'rating', 'total ratings', \\n                                        'price rating', 'tastes'])\\nall_results_yelp = []\\n\\nfor i in range(len(df_tbs)):\\n    latitude = df_tbs['latitude'][i]\\n    longitude = df_tbs['longitude'][i]\\n\\n    res = get_venues_yelp(latitude=latitude, longitude=longitude, radius=1000, api_key=YELP_KEY, \\n                      categories=None, limit=50)\\n    \\n    current_station_id = df_tbs['station_id'][i]\\n    station_id = []\\n    name = []\\n    yelp_id = []\\n    rating = []\\n    latitude = []\\n    longitude = []\\n    distance = []\\n    categories = []\\n    total_ratings = []\\n    price = []\\n    tastes = []\\n\\n    for venue in res['businesses']:\\n        name.append(venue['name'])\\n        yelp_id.append(venue['id'])\\n        \\n        if 'coordinates' in venue:\\n            latitude.append(venue['coordinates']['latitude'])\\n            longitude.append(venue['coordinates']['longitude'])\\n        else:\\n            latitude.append(0)\\n            longitude.append(0)\\n        \\n        distance.append(venue['distance'])\\n\\n        if 'rating' in venue:\\n            rating.append(venue['rating'])\\n        else:\\n            rating.append(None)\\n\\n        if 'review_count' in venue:\\n            total_ratings.append(venue['review_count'])\\n        else:\\n            total_ratings.append(0)\\n\\n        if 'price' in venue:\\n            price.append(venue['price'])\\n        else:\\n            price.append('0')\\n\\n\\n        tastes_list = []\\n        cat_list = []\\n        for category in venue['categories']:\\n            cat_list.append(category['title'])\\n            tastes_list.append(category['alias'])\\n        categories.append(cat_list)\\n        tastes.append(tastes_list)\\n        \\n    for i in range(len(yelp_id)):\\n        station_id.append(current_station_id)\\n\\n    YELP_POI_data = {'name':name, 'yelp_id':yelp_id, 'station_id':station_id, 'latitude':latitude, 'longitude':longitude, 'distance':distance, \\n                     'categories':categories, 'rating':rating, 'total ratings':total_ratings, 'price rating': price, 'tastes':tastes}\\n    \\n    station_YELP_POI_data = pd.DataFrame(YELP_POI_data)\\n    \\n    YELP_POI_info = pd.concat([YELP_POI_info, station_YELP_POI_data], ignore_index=True)\\n    \\n    all_results_yelp.extend(res['businesses'])\\n\\n# Save DataFrame to JSON\\nwith open('YELP_POI_info.json', 'w') as json_file:\\n    json.dump(all_results_yelp, json_file)\\n\""
      ]
     },
     "execution_count": 514,
     "metadata": {},
     "output_type": "execute_result"
    }
   ],
   "source": [
    "\"\"\"\n",
    "YELP_POI_info = pd.DataFrame(columns = ['name', 'yelp_id', 'station_id', 'latitude', 'longitude', 'distance', 'categories', 'rating', 'total ratings', \n",
    "                                        'price rating', 'tastes'])\n",
    "all_results_yelp = []\n",
    "\n",
    "for i in range(len(df_tbs)):\n",
    "    latitude = df_tbs['latitude'][i]\n",
    "    longitude = df_tbs['longitude'][i]\n",
    "\n",
    "    res = get_venues_yelp(latitude=latitude, longitude=longitude, radius=1000, api_key=YELP_KEY, \n",
    "                      categories=None, limit=50)\n",
    "    \n",
    "    current_station_id = df_tbs['station_id'][i]\n",
    "    station_id = []\n",
    "    name = []\n",
    "    yelp_id = []\n",
    "    rating = []\n",
    "    latitude = []\n",
    "    longitude = []\n",
    "    distance = []\n",
    "    categories = []\n",
    "    total_ratings = []\n",
    "    price = []\n",
    "    tastes = []\n",
    "\n",
    "    for venue in res['businesses']:\n",
    "        name.append(venue['name'])\n",
    "        yelp_id.append(venue['id'])\n",
    "        \n",
    "        if 'coordinates' in venue:\n",
    "            latitude.append(venue['coordinates']['latitude'])\n",
    "            longitude.append(venue['coordinates']['longitude'])\n",
    "        else:\n",
    "            latitude.append(0)\n",
    "            longitude.append(0)\n",
    "        \n",
    "        distance.append(venue['distance'])\n",
    "\n",
    "        if 'rating' in venue:\n",
    "            rating.append(venue['rating'])\n",
    "        else:\n",
    "            rating.append(None)\n",
    "\n",
    "        if 'review_count' in venue:\n",
    "            total_ratings.append(venue['review_count'])\n",
    "        else:\n",
    "            total_ratings.append(0)\n",
    "\n",
    "        if 'price' in venue:\n",
    "            price.append(venue['price'])\n",
    "        else:\n",
    "            price.append('0')\n",
    "\n",
    "\n",
    "        tastes_list = []\n",
    "        cat_list = []\n",
    "        for category in venue['categories']:\n",
    "            cat_list.append(category['title'])\n",
    "            tastes_list.append(category['alias'])\n",
    "        categories.append(cat_list)\n",
    "        tastes.append(tastes_list)\n",
    "        \n",
    "    for i in range(len(yelp_id)):\n",
    "        station_id.append(current_station_id)\n",
    "\n",
    "    YELP_POI_data = {'name':name, 'yelp_id':yelp_id, 'station_id':station_id, 'latitude':latitude, 'longitude':longitude, 'distance':distance, \n",
    "                     'categories':categories, 'rating':rating, 'total ratings':total_ratings, 'price rating': price, 'tastes':tastes}\n",
    "    \n",
    "    station_YELP_POI_data = pd.DataFrame(YELP_POI_data)\n",
    "    \n",
    "    YELP_POI_info = pd.concat([YELP_POI_info, station_YELP_POI_data], ignore_index=True)\n",
    "    \n",
    "    all_results_yelp.extend(res['businesses'])\n",
    "\n",
    "# Save DataFrame to JSON\n",
    "with open('YELP_POI_info.json', 'w') as json_file:\n",
    "    json.dump(all_results_yelp, json_file)\n",
    "\"\"\""
   ]
  },
  {
   "cell_type": "code",
   "execution_count": 515,
   "metadata": {},
   "outputs": [
    {
     "data": {
      "text/plain": [
       "\"\\nYELP_POI_info.to_csv('YELP_POI_info.csv', index=False)\\n\""
      ]
     },
     "execution_count": 515,
     "metadata": {},
     "output_type": "execute_result"
    }
   ],
   "source": [
    "\"\"\"\n",
    "YELP_POI_info.to_csv('YELP_POI_info.csv', index=False)\n",
    "\"\"\""
>>>>>>> 92154ef (Initial commit)
   ]
  },
  {
   "cell_type": "code",
   "execution_count": null,
   "metadata": {},
   "outputs": [],
   "source": []
  },
  {
   "cell_type": "markdown",
<<<<<<< HEAD
   "metadata": {},
   "source": [
    "Parse through the response to get the POI (such as restaurants, bars, etc) details you want (ratings, name, location, etc)"
=======
   "metadata": {
    "tags": []
   },
   "source": [
    "## You may run the code below in order to access the dataframe \"YELP_POI_info\" that was created above"
   ]
  },
  {
   "cell_type": "code",
   "execution_count": 516,
   "metadata": {
    "tags": []
   },
   "outputs": [],
   "source": [
    "YELP_POI_info = pd.read_csv('../data/YELP_POI_info.csv')"
   ]
  },
  {
   "cell_type": "code",
   "execution_count": 517,
   "metadata": {},
   "outputs": [
    {
     "data": {
      "text/html": [
       "<div>\n",
       "<style scoped>\n",
       "    .dataframe tbody tr th:only-of-type {\n",
       "        vertical-align: middle;\n",
       "    }\n",
       "\n",
       "    .dataframe tbody tr th {\n",
       "        vertical-align: top;\n",
       "    }\n",
       "\n",
       "    .dataframe thead th {\n",
       "        text-align: right;\n",
       "    }\n",
       "</style>\n",
       "<table border=\"1\" class=\"dataframe\">\n",
       "  <thead>\n",
       "    <tr style=\"text-align: right;\">\n",
       "      <th></th>\n",
       "      <th>name</th>\n",
       "      <th>yelp_id</th>\n",
       "      <th>station_id</th>\n",
       "      <th>latitude</th>\n",
       "      <th>longitude</th>\n",
       "      <th>distance</th>\n",
       "      <th>categories</th>\n",
       "      <th>rating</th>\n",
       "      <th>total ratings</th>\n",
       "      <th>price rating</th>\n",
       "      <th>tastes</th>\n",
       "    </tr>\n",
       "  </thead>\n",
       "  <tbody>\n",
       "    <tr>\n",
       "      <th>0</th>\n",
       "      <td>Bobo Tea &amp; Juice</td>\n",
       "      <td>MFgcXs8uHFXdSjcgldMx1Q</td>\n",
       "      <td>7000</td>\n",
       "      <td>43.639989</td>\n",
       "      <td>-79.396429</td>\n",
       "      <td>42.037360</td>\n",
       "      <td>['Coffee &amp; Tea', 'Bubble Tea', 'Tea Rooms']</td>\n",
       "      <td>4.5</td>\n",
       "      <td>40</td>\n",
       "      <td>$$</td>\n",
       "      <td>['coffee', 'bubbletea', 'tea']</td>\n",
       "    </tr>\n",
       "    <tr>\n",
       "      <th>1</th>\n",
       "      <td>Goppion Caffe</td>\n",
       "      <td>CnpsbZhmlxnS7pkiZVdFBQ</td>\n",
       "      <td>7000</td>\n",
       "      <td>43.640070</td>\n",
       "      <td>-79.396260</td>\n",
       "      <td>46.108791</td>\n",
       "      <td>['Coffee &amp; Tea']</td>\n",
       "      <td>5.0</td>\n",
       "      <td>6</td>\n",
       "      <td>0</td>\n",
       "      <td>['coffee']</td>\n",
       "    </tr>\n",
       "    <tr>\n",
       "      <th>2</th>\n",
       "      <td>Hunters Landing</td>\n",
       "      <td>DIVF4oo86EGupm5CC60sZg</td>\n",
       "      <td>7000</td>\n",
       "      <td>43.640020</td>\n",
       "      <td>-79.396730</td>\n",
       "      <td>60.944848</td>\n",
       "      <td>['Comfort Food', 'Bars', 'Canadian (New)']</td>\n",
       "      <td>3.5</td>\n",
       "      <td>236</td>\n",
       "      <td>$$</td>\n",
       "      <td>['comfortfood', 'bars', 'newcanadian']</td>\n",
       "    </tr>\n",
       "    <tr>\n",
       "      <th>3</th>\n",
       "      <td>Canoe Landing Park</td>\n",
       "      <td>7jQxs8gGX7tJjYj8eoBkfA</td>\n",
       "      <td>7000</td>\n",
       "      <td>43.639274</td>\n",
       "      <td>-79.396895</td>\n",
       "      <td>97.893968</td>\n",
       "      <td>['Parks']</td>\n",
       "      <td>3.5</td>\n",
       "      <td>11</td>\n",
       "      <td>0</td>\n",
       "      <td>['parks']</td>\n",
       "    </tr>\n",
       "    <tr>\n",
       "      <th>4</th>\n",
       "      <td>The Morning After</td>\n",
       "      <td>8UVFcPbjbTITgPoG-yvGLw</td>\n",
       "      <td>7000</td>\n",
       "      <td>43.640164</td>\n",
       "      <td>-79.397143</td>\n",
       "      <td>102.541877</td>\n",
       "      <td>['Breakfast &amp; Brunch', 'Coffee &amp; Tea', 'Cockta...</td>\n",
       "      <td>3.5</td>\n",
       "      <td>99</td>\n",
       "      <td>$$</td>\n",
       "      <td>['breakfast_brunch', 'coffee', 'cocktailbars']</td>\n",
       "    </tr>\n",
       "  </tbody>\n",
       "</table>\n",
       "</div>"
      ],
      "text/plain": [
       "                 name                 yelp_id  station_id   latitude  \\\n",
       "0    Bobo Tea & Juice  MFgcXs8uHFXdSjcgldMx1Q        7000  43.639989   \n",
       "1       Goppion Caffe  CnpsbZhmlxnS7pkiZVdFBQ        7000  43.640070   \n",
       "2     Hunters Landing  DIVF4oo86EGupm5CC60sZg        7000  43.640020   \n",
       "3  Canoe Landing Park  7jQxs8gGX7tJjYj8eoBkfA        7000  43.639274   \n",
       "4   The Morning After  8UVFcPbjbTITgPoG-yvGLw        7000  43.640164   \n",
       "\n",
       "   longitude    distance                                         categories  \\\n",
       "0 -79.396429   42.037360        ['Coffee & Tea', 'Bubble Tea', 'Tea Rooms']   \n",
       "1 -79.396260   46.108791                                   ['Coffee & Tea']   \n",
       "2 -79.396730   60.944848         ['Comfort Food', 'Bars', 'Canadian (New)']   \n",
       "3 -79.396895   97.893968                                          ['Parks']   \n",
       "4 -79.397143  102.541877  ['Breakfast & Brunch', 'Coffee & Tea', 'Cockta...   \n",
       "\n",
       "   rating  total ratings price rating  \\\n",
       "0     4.5             40           $$   \n",
       "1     5.0              6            0   \n",
       "2     3.5            236           $$   \n",
       "3     3.5             11            0   \n",
       "4     3.5             99           $$   \n",
       "\n",
       "                                           tastes  \n",
       "0                  ['coffee', 'bubbletea', 'tea']  \n",
       "1                                      ['coffee']  \n",
       "2          ['comfortfood', 'bars', 'newcanadian']  \n",
       "3                                       ['parks']  \n",
       "4  ['breakfast_brunch', 'coffee', 'cocktailbars']  "
      ]
     },
     "execution_count": 517,
     "metadata": {},
     "output_type": "execute_result"
    }
   ],
   "source": [
    "YELP_POI_info.head()"
>>>>>>> 92154ef (Initial commit)
   ]
  },
  {
   "cell_type": "code",
   "execution_count": null,
   "metadata": {},
   "outputs": [],
   "source": []
  },
  {
<<<<<<< HEAD
   "cell_type": "markdown",
   "metadata": {},
   "source": [
    "Put your parsed results into a DataFrame"
   ]
  },
  {
   "cell_type": "markdown",
   "metadata": {},
=======
   "cell_type": "code",
   "execution_count": null,
   "metadata": {},
   "outputs": [],
>>>>>>> 92154ef (Initial commit)
   "source": []
  },
  {
   "cell_type": "markdown",
   "metadata": {},
   "source": [
    "# Comparing Results"
   ]
  },
  {
   "cell_type": "markdown",
   "metadata": {},
   "source": [
<<<<<<< HEAD
    "Which API provided you with more complete data? Provide an explanation. "
=======
    "### 1. Which API provided you with more complete data? Provide an explanation. "
>>>>>>> 92154ef (Initial commit)
   ]
  },
  {
   "cell_type": "markdown",
   "metadata": {},
<<<<<<< HEAD
   "source": []
  },
  {
   "cell_type": "markdown",
   "metadata": {},
   "source": [
    "Get the top 10 restaurants according to their rating"
=======
   "source": [
    "#### Both yelp and Foursquare provide a fairly wide range of results.  They seem to be comparable in how much information we can extract, but here's a list of a few things I noticed when using the two APIs:\n",
    "##### - Yelp works better with categories (Foursquare doesn't seem to filter on category very well)\n",
    "##### - Yelp has some paid attributes (some of the attributes like \"bike parking\", \"gender neutral washrooms\", etc were for paid members only)\n",
    "##### - Foursquare provided more meaningful category names (they were a bit more broad and useful than the yelp category names).\n",
    "##### - Both provided ratings of POIs\n",
    "##### - FS gave a popularity rating - which has to do with foot traffic."
>>>>>>> 92154ef (Initial commit)
   ]
  },
  {
   "cell_type": "code",
   "execution_count": null,
   "metadata": {},
   "outputs": [],
   "source": []
<<<<<<< HEAD
=======
  },
  {
   "cell_type": "markdown",
   "metadata": {},
   "source": [
    "### 2. Get the top 10 restaurants according to their rating"
   ]
  },
  {
   "cell_type": "markdown",
   "metadata": {},
   "source": [
    "#### First, I need to filter the foursquare dataframe to include only restaurants and only use the columns that are pertinent to this excercise"
   ]
  },
  {
   "cell_type": "code",
   "execution_count": 518,
   "metadata": {},
   "outputs": [],
   "source": [
    "FS_POI_info = pd.read_csv('../data/FS_POI_info.csv')"
   ]
  },
  {
   "cell_type": "code",
   "execution_count": 519,
   "metadata": {
    "tags": []
   },
   "outputs": [],
   "source": [
    "venues_with_ratings_FS = FS_POI_info[['name','rating','total ratings','categories']]"
   ]
  },
  {
   "cell_type": "markdown",
   "metadata": {},
   "source": [
    "#### Dropping any duplicated rows, since the same restaurant could be listed for multiple bike stations"
   ]
  },
  {
   "cell_type": "code",
   "execution_count": 520,
   "metadata": {},
   "outputs": [],
   "source": [
    "venues_with_ratings_FS = venues_with_ratings_FS.drop_duplicates()"
   ]
  },
  {
   "cell_type": "markdown",
   "metadata": {},
   "source": [
    "#### Here's the lambda function that runs through all entires and keeping only those that have the word \"Restaurant\" in their categories column"
   ]
  },
  {
   "cell_type": "code",
   "execution_count": 521,
   "metadata": {},
   "outputs": [],
   "source": [
    "FS_restaurants_with_ratings = venues_with_ratings[venues_with_ratings['categories'].apply(lambda x: 'Restaurant' in x)]"
   ]
  },
  {
   "cell_type": "code",
   "execution_count": 522,
   "metadata": {},
   "outputs": [
    {
     "data": {
      "text/html": [
       "<div>\n",
       "<style scoped>\n",
       "    .dataframe tbody tr th:only-of-type {\n",
       "        vertical-align: middle;\n",
       "    }\n",
       "\n",
       "    .dataframe tbody tr th {\n",
       "        vertical-align: top;\n",
       "    }\n",
       "\n",
       "    .dataframe thead th {\n",
       "        text-align: right;\n",
       "    }\n",
       "</style>\n",
       "<table border=\"1\" class=\"dataframe\">\n",
       "  <thead>\n",
       "    <tr style=\"text-align: right;\">\n",
       "      <th></th>\n",
       "      <th>name</th>\n",
       "      <th>rating</th>\n",
       "      <th>total ratings</th>\n",
       "      <th>categories</th>\n",
       "      <th>tastes</th>\n",
       "    </tr>\n",
       "  </thead>\n",
       "  <tbody>\n",
       "    <tr>\n",
       "      <th>6721</th>\n",
       "      <td>Cumbrae's</td>\n",
       "      <td>9.3</td>\n",
       "      <td>41</td>\n",
       "      <td>[Restaurant, Butcher, Grocery Store]</td>\n",
       "      <td>[meats]</td>\n",
       "    </tr>\n",
       "    <tr>\n",
       "      <th>8532</th>\n",
       "      <td>Northern Belle</td>\n",
       "      <td>9.3</td>\n",
       "      <td>74</td>\n",
       "      <td>[Cocktail Bar, Café, Restaurant]</td>\n",
       "      <td>[restaurants, bar, staff, outdoor seating, tre...</td>\n",
       "    </tr>\n",
       "    <tr>\n",
       "      <th>9960</th>\n",
       "      <td>Steam Whistle Brewing</td>\n",
       "      <td>9.3</td>\n",
       "      <td>885</td>\n",
       "      <td>[Brewery, Restaurant]</td>\n",
       "      <td>[beer, well, lines, liquor, books, crowded, ar...</td>\n",
       "    </tr>\n",
       "    <tr>\n",
       "      <th>14771</th>\n",
       "      <td>Steam Whistle Brewing</td>\n",
       "      <td>9.3</td>\n",
       "      <td>885</td>\n",
       "      <td>[Brewery, Restaurant]</td>\n",
       "      <td>[beer, well, lines, liquor, books, crowded, ar...</td>\n",
       "    </tr>\n",
       "    <tr>\n",
       "      <th>6674</th>\n",
       "      <td>Cumbrae's</td>\n",
       "      <td>9.3</td>\n",
       "      <td>41</td>\n",
       "      <td>[Restaurant, Butcher, Grocery Store]</td>\n",
       "      <td>[meats]</td>\n",
       "    </tr>\n",
       "    <tr>\n",
       "      <th>...</th>\n",
       "      <td>...</td>\n",
       "      <td>...</td>\n",
       "      <td>...</td>\n",
       "      <td>...</td>\n",
       "      <td>...</td>\n",
       "    </tr>\n",
       "    <tr>\n",
       "      <th>27505</th>\n",
       "      <td>Bakery on the Go</td>\n",
       "      <td>NaN</td>\n",
       "      <td>0</td>\n",
       "      <td>[Bakery, Coffee Shop, Restaurant]</td>\n",
       "      <td>[]</td>\n",
       "    </tr>\n",
       "    <tr>\n",
       "      <th>27582</th>\n",
       "      <td>Drip Cafe</td>\n",
       "      <td>NaN</td>\n",
       "      <td>0</td>\n",
       "      <td>[Café, Restaurant]</td>\n",
       "      <td>[]</td>\n",
       "    </tr>\n",
       "    <tr>\n",
       "      <th>27639</th>\n",
       "      <td>Drip Cafe</td>\n",
       "      <td>NaN</td>\n",
       "      <td>0</td>\n",
       "      <td>[Café, Restaurant]</td>\n",
       "      <td>[]</td>\n",
       "    </tr>\n",
       "    <tr>\n",
       "      <th>27647</th>\n",
       "      <td>One Jerk</td>\n",
       "      <td>NaN</td>\n",
       "      <td>0</td>\n",
       "      <td>[Restaurant]</td>\n",
       "      <td>[]</td>\n",
       "    </tr>\n",
       "    <tr>\n",
       "      <th>27648</th>\n",
       "      <td>Big Boys Burgers</td>\n",
       "      <td>NaN</td>\n",
       "      <td>0</td>\n",
       "      <td>[Restaurant]</td>\n",
       "      <td>[]</td>\n",
       "    </tr>\n",
       "  </tbody>\n",
       "</table>\n",
       "<p>4768 rows × 5 columns</p>\n",
       "</div>"
      ],
      "text/plain": [
       "                        name  rating total ratings  \\\n",
       "6721               Cumbrae's     9.3            41   \n",
       "8532          Northern Belle     9.3            74   \n",
       "9960   Steam Whistle Brewing     9.3           885   \n",
       "14771  Steam Whistle Brewing     9.3           885   \n",
       "6674               Cumbrae's     9.3            41   \n",
       "...                      ...     ...           ...   \n",
       "27505       Bakery on the Go     NaN             0   \n",
       "27582              Drip Cafe     NaN             0   \n",
       "27639              Drip Cafe     NaN             0   \n",
       "27647               One Jerk     NaN             0   \n",
       "27648       Big Boys Burgers     NaN             0   \n",
       "\n",
       "                                 categories  \\\n",
       "6721   [Restaurant, Butcher, Grocery Store]   \n",
       "8532       [Cocktail Bar, Café, Restaurant]   \n",
       "9960                  [Brewery, Restaurant]   \n",
       "14771                 [Brewery, Restaurant]   \n",
       "6674   [Restaurant, Butcher, Grocery Store]   \n",
       "...                                     ...   \n",
       "27505     [Bakery, Coffee Shop, Restaurant]   \n",
       "27582                    [Café, Restaurant]   \n",
       "27639                    [Café, Restaurant]   \n",
       "27647                          [Restaurant]   \n",
       "27648                          [Restaurant]   \n",
       "\n",
       "                                                  tastes  \n",
       "6721                                             [meats]  \n",
       "8532   [restaurants, bar, staff, outdoor seating, tre...  \n",
       "9960   [beer, well, lines, liquor, books, crowded, ar...  \n",
       "14771  [beer, well, lines, liquor, books, crowded, ar...  \n",
       "6674                                             [meats]  \n",
       "...                                                  ...  \n",
       "27505                                                 []  \n",
       "27582                                                 []  \n",
       "27639                                                 []  \n",
       "27647                                                 []  \n",
       "27648                                                 []  \n",
       "\n",
       "[4768 rows x 5 columns]"
      ]
     },
     "execution_count": 522,
     "metadata": {},
     "output_type": "execute_result"
    }
   ],
   "source": [
    "FS_restaurants_with_ratings.sort_values(by='rating', ascending=False)"
   ]
  },
  {
   "cell_type": "code",
   "execution_count": null,
   "metadata": {
    "tags": []
   },
   "outputs": [],
   "source": []
  },
  {
   "cell_type": "markdown",
   "metadata": {},
   "source": [
    "#### Now we can filter our yelp dataframe for restaurants"
   ]
  },
  {
   "cell_type": "code",
   "execution_count": 523,
   "metadata": {},
   "outputs": [],
   "source": [
    "YELP_POI_info = pd.read_csv('../data/YELP_POI_info.csv')"
   ]
  },
  {
   "cell_type": "code",
   "execution_count": 524,
   "metadata": {},
   "outputs": [],
   "source": [
    "venues_with_ratings_yelp = YELP_POI_info[['name','rating','total ratings', 'categories']]"
   ]
  },
  {
   "cell_type": "code",
   "execution_count": 525,
   "metadata": {
    "tags": []
   },
   "outputs": [],
   "source": [
    "venues_with_ratings_yelp = venues_with_ratings_yelp.drop_duplicates()"
   ]
  },
  {
   "cell_type": "code",
   "execution_count": null,
   "metadata": {},
   "outputs": [],
   "source": []
  },
  {
   "cell_type": "markdown",
   "metadata": {},
   "source": [
    "#### An issue with the yelp information is that restuarants are not all given a category name that actually contains the word restaurant.  So if I were to try and filter this dataframe like I did with the Foursquare dataframe, I'd be missing alot of restaurants.  What I decided to do was to make a yelp API call for ONLY restaruants, and create a list of the categories that came up for these POIs.  Then I look through the list to remove any items that are not appropriate.  Then I use this list of \"acceptable\" category titles for my filtering."
   ]
  },
  {
   "cell_type": "code",
   "execution_count": 526,
   "metadata": {},
   "outputs": [],
   "source": [
    "def get_restaraunt_categories_yelp(latitude, longitude, radius, api_key, categories, limit):\n",
    "    \n",
    "    base_url = \"https://api.yelp.com/v3/businesses/search\"\n",
    "\n",
    "    params = {\n",
    "        'latitude': latitude,\n",
    "        'longitude': longitude,\n",
    "        'radius': radius,\n",
    "        'limit': limit,\n",
    "        'term': categories,\n",
    "        'sort_by': 'distance'\n",
    "        }\n",
    "\n",
    "    headers = {\n",
    "        \"accept\": \"application/json\",\n",
    "        \"Authorization\": f\"Bearer {api_key}\"\n",
    "        }\n",
    "\n",
    "    results = requests.get(base_url, params=params, headers=headers)\n",
    "    \n",
    "    return results.json()"
   ]
  },
  {
   "cell_type": "markdown",
   "metadata": {},
   "source": [
    "### **NO NEED TO RUN THE TWO CODE BLOCKS BELOW SINCE THEY WILL NOT RETURN ANYTHING WITHOUT AN API KEY.**  \n",
    "### I've re-created the list this would have returned after these two block so you can work with what I had."
   ]
  },
  {
   "cell_type": "code",
   "execution_count": 527,
   "metadata": {
    "tags": []
   },
   "outputs": [],
   "source": [
    "restaurants_yelp = get_restaraunt_categories_yelp(latitude=43.639832, longitude=-79.395954, radius=40000, api_key=YELP_KEY, \n",
    "                      categories='restaurants', limit=50)"
   ]
  },
  {
   "cell_type": "code",
   "execution_count": 528,
   "metadata": {},
   "outputs": [],
   "source": [
    "rest_categories_list = []\n",
    "for venue in restaurants_yelp['businesses']:\n",
    "    cat_list = []\n",
    "    for category in venue['categories']:\n",
    "        #print(category['title'])\n",
    "        if category['title'] not in rest_categories_list:\n",
    "            rest_categories_list.append(category['title'])"
   ]
  },
  {
   "cell_type": "code",
   "execution_count": null,
   "metadata": {},
   "outputs": [],
   "source": []
  },
  {
   "cell_type": "markdown",
   "metadata": {},
   "source": [
    "### Feel free to run this code and beyond :).  This is the list that was returned from the 2 blocks of code above."
   ]
  },
  {
   "cell_type": "code",
   "execution_count": 529,
   "metadata": {},
   "outputs": [],
   "source": [
    "rest_categories_list = ['Comfort Food','Bars','Canadian (New)','Breakfast & Brunch','Coffee & Tea','Cocktail Bars','Sushi Bars','Ramen','Caribbean','Sandwiches',\n",
    "                        'Middle Eastern','Mediterranean','Persian/Iranian','Indian','Halal','Pakistani','Mexican','Food Stands','Farmers Market','Desserts',\n",
    "                        'Cafes','Japanese','Fast Food','Greek','Thai','Chicken Wings','Sports Bars','Coffee Roasteries','French','Food Delivery Services',\n",
    "                        'Burgers','Peruvian','Pubs','Bistros','Pizza','Bagels','Sports Clubs','American (Traditional)','Italian','Tapas Bars','Spanish',\n",
    "                        'Wine Bars','Latin American','Vegetarian','Ice Cream & Frozen Yogurt','Waffles','Soup','Seafood','Salad','Egyptian','Caterers',\n",
    "                        'Indonesian']"
   ]
  },
  {
   "cell_type": "code",
   "execution_count": 530,
   "metadata": {},
   "outputs": [
    {
     "data": {
      "text/plain": [
       "52"
      ]
     },
     "execution_count": 530,
     "metadata": {},
     "output_type": "execute_result"
    }
   ],
   "source": [
    "len(rest_categories_list)"
   ]
  },
  {
   "cell_type": "markdown",
   "metadata": {},
   "source": [
    "#### I want to make this list even smaller by removing words that are not typically associated with restaurants, including words that might incidate that the venues is a coffee or tea shop."
   ]
  },
  {
   "cell_type": "code",
   "execution_count": 531,
   "metadata": {},
   "outputs": [],
   "source": [
    "# Keywords that are not associated with restaurants\n",
    "non_restaurant_keywords = ['Reflexology','Massage Therapy','Ice Cream & Frozen Yogurt','Coffee Roasteries','Coffee & Tea','Bagels','Waffles','Desserts',\n",
    "                          'Bars','Wine Bars','Tapas Bars','Food Delivery Services','Fast Food','Cafes','Cocktail Bars']  # Add more keywords here\n",
    "\n",
    "# Filter out categories that contain non-restaurant keywords\n",
    "filtered_categories_list = [category for category in rest_categories_list if not any(keyword in category for keyword in non_restaurant_keywords)]"
   ]
  },
  {
   "cell_type": "code",
   "execution_count": 532,
   "metadata": {},
   "outputs": [
    {
     "data": {
      "text/plain": [
       "37"
      ]
     },
     "execution_count": 532,
     "metadata": {},
     "output_type": "execute_result"
    }
   ],
   "source": [
    "len(filtered_categories_list)"
   ]
  },
  {
   "cell_type": "code",
   "execution_count": null,
   "metadata": {},
   "outputs": [],
   "source": []
  },
  {
   "cell_type": "markdown",
   "metadata": {},
   "source": [
    "#### Now we can sort our dataframe by only selecting the venues that have these \"acceptable\" restaurant-like phrases in their categories column"
   ]
  },
  {
   "cell_type": "code",
   "execution_count": 533,
   "metadata": {},
   "outputs": [],
   "source": [
    "#select ONLY the entries from our DataFrame that have a category found in our filtered_category_list\n",
    "yelp_restaurants_with_ratings = \\\n",
    "venues_with_ratings_yelp[venues_with_ratings_yelp['categories']\n",
    "                         .apply(lambda x: any(word in x for word in filtered_categories_list))]"
   ]
  },
  {
   "cell_type": "code",
   "execution_count": 534,
   "metadata": {},
   "outputs": [],
   "source": [
    "#Further filter out the entries that have names with the words Coffee or Cafe in them\n",
    "# Keywords to exclude\n",
    "exclude_keywords = ['cafe', 'coffee', 'deli', 'Espresso']\n",
    "\n",
    "# Use boolean indexing to filter the DataFrame\n",
    "yelp_restaurants_with_ratings = yelp_restaurants_with_ratings[~yelp_restaurants_with_ratings['name'].str.contains('|'.join(exclude_keywords), case=False)]"
   ]
  },
  {
   "cell_type": "code",
   "execution_count": 535,
   "metadata": {},
   "outputs": [
    {
     "data": {
      "text/html": [
       "<div>\n",
       "<style scoped>\n",
       "    .dataframe tbody tr th:only-of-type {\n",
       "        vertical-align: middle;\n",
       "    }\n",
       "\n",
       "    .dataframe tbody tr th {\n",
       "        vertical-align: top;\n",
       "    }\n",
       "\n",
       "    .dataframe thead th {\n",
       "        text-align: right;\n",
       "    }\n",
       "</style>\n",
       "<table border=\"1\" class=\"dataframe\">\n",
       "  <thead>\n",
       "    <tr style=\"text-align: right;\">\n",
       "      <th></th>\n",
       "      <th>name</th>\n",
       "      <th>rating</th>\n",
       "      <th>total ratings</th>\n",
       "      <th>categories</th>\n",
       "    </tr>\n",
       "  </thead>\n",
       "  <tbody>\n",
       "    <tr>\n",
       "      <th>12732</th>\n",
       "      <td>241 Pizza</td>\n",
       "      <td>5.0</td>\n",
       "      <td>1</td>\n",
       "      <td>['Pizza']</td>\n",
       "    </tr>\n",
       "    <tr>\n",
       "      <th>1077</th>\n",
       "      <td>Luisa's Burritos &amp; Bowls</td>\n",
       "      <td>5.0</td>\n",
       "      <td>1</td>\n",
       "      <td>['Mexican', 'Fast Food', 'Food Delivery Servic...</td>\n",
       "    </tr>\n",
       "    <tr>\n",
       "      <th>13696</th>\n",
       "      <td>Young Tea</td>\n",
       "      <td>5.0</td>\n",
       "      <td>1</td>\n",
       "      <td>['Bubble Tea', 'Sandwiches']</td>\n",
       "    </tr>\n",
       "    <tr>\n",
       "      <th>13769</th>\n",
       "      <td>Super Empanada</td>\n",
       "      <td>5.0</td>\n",
       "      <td>3</td>\n",
       "      <td>['Latin American', 'Argentine']</td>\n",
       "    </tr>\n",
       "    <tr>\n",
       "      <th>1448</th>\n",
       "      <td>Sleepy Pete's</td>\n",
       "      <td>5.0</td>\n",
       "      <td>1</td>\n",
       "      <td>['Breakfast &amp; Brunch']</td>\n",
       "    </tr>\n",
       "    <tr>\n",
       "      <th>...</th>\n",
       "      <td>...</td>\n",
       "      <td>...</td>\n",
       "      <td>...</td>\n",
       "      <td>...</td>\n",
       "    </tr>\n",
       "    <tr>\n",
       "      <th>2958</th>\n",
       "      <td>Panzerotto Pizza</td>\n",
       "      <td>1.0</td>\n",
       "      <td>1</td>\n",
       "      <td>['Pizza']</td>\n",
       "    </tr>\n",
       "    <tr>\n",
       "      <th>23383</th>\n",
       "      <td>Westwood Burger Place</td>\n",
       "      <td>1.0</td>\n",
       "      <td>2</td>\n",
       "      <td>['Hot Dogs', 'Burgers']</td>\n",
       "    </tr>\n",
       "    <tr>\n",
       "      <th>29776</th>\n",
       "      <td>McDonald's</td>\n",
       "      <td>1.0</td>\n",
       "      <td>16</td>\n",
       "      <td>['Fast Food', 'Burgers']</td>\n",
       "    </tr>\n",
       "    <tr>\n",
       "      <th>2724</th>\n",
       "      <td>Pizza Rustica</td>\n",
       "      <td>1.0</td>\n",
       "      <td>2</td>\n",
       "      <td>['Pizza']</td>\n",
       "    </tr>\n",
       "    <tr>\n",
       "      <th>8491</th>\n",
       "      <td>Mamma's Pizza</td>\n",
       "      <td>1.0</td>\n",
       "      <td>4</td>\n",
       "      <td>['Pizza', 'Italian', 'Chicken Wings']</td>\n",
       "    </tr>\n",
       "  </tbody>\n",
       "</table>\n",
       "<p>3804 rows × 4 columns</p>\n",
       "</div>"
      ],
      "text/plain": [
       "                           name  rating  total ratings  \\\n",
       "12732                 241 Pizza     5.0              1   \n",
       "1077   Luisa's Burritos & Bowls     5.0              1   \n",
       "13696                 Young Tea     5.0              1   \n",
       "13769            Super Empanada     5.0              3   \n",
       "1448              Sleepy Pete's     5.0              1   \n",
       "...                         ...     ...            ...   \n",
       "2958           Panzerotto Pizza     1.0              1   \n",
       "23383     Westwood Burger Place     1.0              2   \n",
       "29776                McDonald's     1.0             16   \n",
       "2724              Pizza Rustica     1.0              2   \n",
       "8491              Mamma's Pizza     1.0              4   \n",
       "\n",
       "                                              categories  \n",
       "12732                                          ['Pizza']  \n",
       "1077   ['Mexican', 'Fast Food', 'Food Delivery Servic...  \n",
       "13696                       ['Bubble Tea', 'Sandwiches']  \n",
       "13769                    ['Latin American', 'Argentine']  \n",
       "1448                              ['Breakfast & Brunch']  \n",
       "...                                                  ...  \n",
       "2958                                           ['Pizza']  \n",
       "23383                            ['Hot Dogs', 'Burgers']  \n",
       "29776                           ['Fast Food', 'Burgers']  \n",
       "2724                                           ['Pizza']  \n",
       "8491               ['Pizza', 'Italian', 'Chicken Wings']  \n",
       "\n",
       "[3804 rows x 4 columns]"
      ]
     },
     "execution_count": 535,
     "metadata": {},
     "output_type": "execute_result"
    }
   ],
   "source": [
    "yelp_restaurants_with_ratings.sort_values(by='rating', ascending=False)"
   ]
  },
  {
   "cell_type": "markdown",
   "metadata": {},
   "source": [
    "#### Now let's merge the dataframes together using the 'name' column for each"
   ]
  },
  {
   "cell_type": "code",
   "execution_count": 536,
   "metadata": {},
   "outputs": [],
   "source": [
    "merged_df = yelp_restaurants_with_ratings.merge(FS_restaurants_with_ratings, on='name')"
   ]
  },
  {
   "cell_type": "markdown",
   "metadata": {},
   "source": [
    "#### Now that we've got the 'restaurants', we will remove the categories column, then remove any duplicate rows"
   ]
  },
  {
   "cell_type": "code",
   "execution_count": 537,
   "metadata": {},
   "outputs": [],
   "source": [
    "merged_df = merged_df[['name', 'rating_x','total ratings_x', 'rating_y', 'total ratings_y']]"
   ]
  },
  {
   "cell_type": "code",
   "execution_count": 538,
   "metadata": {
    "tags": []
   },
   "outputs": [
    {
     "data": {
      "text/html": [
       "<div>\n",
       "<style scoped>\n",
       "    .dataframe tbody tr th:only-of-type {\n",
       "        vertical-align: middle;\n",
       "    }\n",
       "\n",
       "    .dataframe tbody tr th {\n",
       "        vertical-align: top;\n",
       "    }\n",
       "\n",
       "    .dataframe thead th {\n",
       "        text-align: right;\n",
       "    }\n",
       "</style>\n",
       "<table border=\"1\" class=\"dataframe\">\n",
       "  <thead>\n",
       "    <tr style=\"text-align: right;\">\n",
       "      <th></th>\n",
       "      <th>name</th>\n",
       "      <th>rating_x</th>\n",
       "      <th>total ratings_x</th>\n",
       "      <th>rating_y</th>\n",
       "      <th>total ratings_y</th>\n",
       "    </tr>\n",
       "  </thead>\n",
       "  <tbody>\n",
       "    <tr>\n",
       "      <th>0</th>\n",
       "      <td>Hunters Landing</td>\n",
       "      <td>3.5</td>\n",
       "      <td>236</td>\n",
       "      <td>7.4</td>\n",
       "      <td>184</td>\n",
       "    </tr>\n",
       "    <tr>\n",
       "      <th>27</th>\n",
       "      <td>Bar Mercurio</td>\n",
       "      <td>3.5</td>\n",
       "      <td>57</td>\n",
       "      <td>7.2</td>\n",
       "      <td>27</td>\n",
       "    </tr>\n",
       "    <tr>\n",
       "      <th>31</th>\n",
       "      <td>Tim Hortons</td>\n",
       "      <td>2.5</td>\n",
       "      <td>33</td>\n",
       "      <td>7.7</td>\n",
       "      <td>19</td>\n",
       "    </tr>\n",
       "    <tr>\n",
       "      <th>32</th>\n",
       "      <td>Tim Hortons</td>\n",
       "      <td>2.5</td>\n",
       "      <td>33</td>\n",
       "      <td>8.1</td>\n",
       "      <td>73</td>\n",
       "    </tr>\n",
       "    <tr>\n",
       "      <th>33</th>\n",
       "      <td>Tim Hortons</td>\n",
       "      <td>2.5</td>\n",
       "      <td>33</td>\n",
       "      <td>8.5</td>\n",
       "      <td>51</td>\n",
       "    </tr>\n",
       "    <tr>\n",
       "      <th>...</th>\n",
       "      <td>...</td>\n",
       "      <td>...</td>\n",
       "      <td>...</td>\n",
       "      <td>...</td>\n",
       "      <td>...</td>\n",
       "    </tr>\n",
       "    <tr>\n",
       "      <th>7163</th>\n",
       "      <td>Ace's Place Bar Grill Hub</td>\n",
       "      <td>3.5</td>\n",
       "      <td>34</td>\n",
       "      <td>8.2</td>\n",
       "      <td>12</td>\n",
       "    </tr>\n",
       "    <tr>\n",
       "      <th>7165</th>\n",
       "      <td>Gingerman Restaurant</td>\n",
       "      <td>4.5</td>\n",
       "      <td>70</td>\n",
       "      <td>8.1</td>\n",
       "      <td>8</td>\n",
       "    </tr>\n",
       "    <tr>\n",
       "      <th>7167</th>\n",
       "      <td>Tara Inn</td>\n",
       "      <td>3.0</td>\n",
       "      <td>32</td>\n",
       "      <td>5.6</td>\n",
       "      <td>12</td>\n",
       "    </tr>\n",
       "    <tr>\n",
       "      <th>7171</th>\n",
       "      <td>Tara Inn</td>\n",
       "      <td>3.0</td>\n",
       "      <td>11</td>\n",
       "      <td>5.6</td>\n",
       "      <td>12</td>\n",
       "    </tr>\n",
       "    <tr>\n",
       "      <th>7175</th>\n",
       "      <td>Bellwoods Brewery</td>\n",
       "      <td>4.0</td>\n",
       "      <td>353</td>\n",
       "      <td>9.3</td>\n",
       "      <td>640</td>\n",
       "    </tr>\n",
       "  </tbody>\n",
       "</table>\n",
       "<p>1041 rows × 5 columns</p>\n",
       "</div>"
      ],
      "text/plain": [
       "                           name  rating_x  total ratings_x  rating_y  \\\n",
       "0               Hunters Landing       3.5              236       7.4   \n",
       "27                 Bar Mercurio       3.5               57       7.2   \n",
       "31                  Tim Hortons       2.5               33       7.7   \n",
       "32                  Tim Hortons       2.5               33       8.1   \n",
       "33                  Tim Hortons       2.5               33       8.5   \n",
       "...                         ...       ...              ...       ...   \n",
       "7163  Ace's Place Bar Grill Hub       3.5               34       8.2   \n",
       "7165       Gingerman Restaurant       4.5               70       8.1   \n",
       "7167                   Tara Inn       3.0               32       5.6   \n",
       "7171                   Tara Inn       3.0               11       5.6   \n",
       "7175          Bellwoods Brewery       4.0              353       9.3   \n",
       "\n",
       "     total ratings_y  \n",
       "0                184  \n",
       "27                27  \n",
       "31                19  \n",
       "32                73  \n",
       "33                51  \n",
       "...              ...  \n",
       "7163              12  \n",
       "7165               8  \n",
       "7167              12  \n",
       "7171              12  \n",
       "7175             640  \n",
       "\n",
       "[1041 rows x 5 columns]"
      ]
     },
     "execution_count": 538,
     "metadata": {},
     "output_type": "execute_result"
    }
   ],
   "source": [
    "merged_df.drop_duplicates()"
   ]
  },
  {
   "cell_type": "markdown",
   "metadata": {},
   "source": [
    "#### I noticed that we still have alot of repeats listed such as \"tim hortons\", so I'm going to truncate these duplicate restaurants into one by aggregating the results"
   ]
  },
  {
   "cell_type": "code",
   "execution_count": 539,
   "metadata": {},
   "outputs": [],
   "source": [
    "# Group by 'name' and aggregate ratings\n",
    "aggregated_df = merged_df.groupby('name').agg({\n",
    "    'rating_x': 'mean',\n",
    "    'total ratings_x': 'sum',\n",
    "    'rating_y': 'mean',\n",
    "    'total ratings_y': 'sum'\n",
    "}).reset_index()"
   ]
  },
  {
   "cell_type": "code",
   "execution_count": 540,
   "metadata": {},
   "outputs": [
    {
     "data": {
      "text/html": [
       "<div>\n",
       "<style scoped>\n",
       "    .dataframe tbody tr th:only-of-type {\n",
       "        vertical-align: middle;\n",
       "    }\n",
       "\n",
       "    .dataframe tbody tr th {\n",
       "        vertical-align: top;\n",
       "    }\n",
       "\n",
       "    .dataframe thead th {\n",
       "        text-align: right;\n",
       "    }\n",
       "</style>\n",
       "<table border=\"1\" class=\"dataframe\">\n",
       "  <thead>\n",
       "    <tr style=\"text-align: right;\">\n",
       "      <th></th>\n",
       "      <th>name</th>\n",
       "      <th>rating_x</th>\n",
       "      <th>total ratings_x</th>\n",
       "      <th>rating_y</th>\n",
       "      <th>total ratings_y</th>\n",
       "    </tr>\n",
       "  </thead>\n",
       "  <tbody>\n",
       "    <tr>\n",
       "      <th>0</th>\n",
       "      <td>Ace's Place Bar Grill Hub</td>\n",
       "      <td>3.500000</td>\n",
       "      <td>68</td>\n",
       "      <td>8.200000</td>\n",
       "      <td>24</td>\n",
       "    </tr>\n",
       "    <tr>\n",
       "      <th>1</th>\n",
       "      <td>Actinolite Restaurant</td>\n",
       "      <td>4.000000</td>\n",
       "      <td>1290</td>\n",
       "      <td>7.900000</td>\n",
       "      <td>540</td>\n",
       "    </tr>\n",
       "    <tr>\n",
       "      <th>2</th>\n",
       "      <td>Aloette</td>\n",
       "      <td>4.000000</td>\n",
       "      <td>7268</td>\n",
       "      <td>8.400000</td>\n",
       "      <td>3082</td>\n",
       "    </tr>\n",
       "    <tr>\n",
       "      <th>3</th>\n",
       "      <td>Antler Kitchen &amp; Bar</td>\n",
       "      <td>4.500000</td>\n",
       "      <td>5780</td>\n",
       "      <td>8.500000</td>\n",
       "      <td>1160</td>\n",
       "    </tr>\n",
       "    <tr>\n",
       "      <th>4</th>\n",
       "      <td>Bar Hop</td>\n",
       "      <td>3.500000</td>\n",
       "      <td>3960</td>\n",
       "      <td>8.700000</td>\n",
       "      <td>15279</td>\n",
       "    </tr>\n",
       "    <tr>\n",
       "      <th>...</th>\n",
       "      <td>...</td>\n",
       "      <td>...</td>\n",
       "      <td>...</td>\n",
       "      <td>...</td>\n",
       "      <td>...</td>\n",
       "    </tr>\n",
       "    <tr>\n",
       "      <th>64</th>\n",
       "      <td>Tim Hortons</td>\n",
       "      <td>2.777778</td>\n",
       "      <td>34768</td>\n",
       "      <td>7.062385</td>\n",
       "      <td>154602</td>\n",
       "    </tr>\n",
       "    <tr>\n",
       "      <th>65</th>\n",
       "      <td>Timothy's Pub</td>\n",
       "      <td>4.000000</td>\n",
       "      <td>44</td>\n",
       "      <td>7.200000</td>\n",
       "      <td>46</td>\n",
       "    </tr>\n",
       "    <tr>\n",
       "      <th>66</th>\n",
       "      <td>Voodoo Child</td>\n",
       "      <td>4.000000</td>\n",
       "      <td>3976</td>\n",
       "      <td>8.800000</td>\n",
       "      <td>4144</td>\n",
       "    </tr>\n",
       "    <tr>\n",
       "      <th>67</th>\n",
       "      <td>Walrus Pub &amp; Beer Hall</td>\n",
       "      <td>3.500000</td>\n",
       "      <td>474</td>\n",
       "      <td>8.200000</td>\n",
       "      <td>342</td>\n",
       "    </tr>\n",
       "    <tr>\n",
       "      <th>68</th>\n",
       "      <td>Wynona</td>\n",
       "      <td>4.500000</td>\n",
       "      <td>930</td>\n",
       "      <td>8.400000</td>\n",
       "      <td>240</td>\n",
       "    </tr>\n",
       "  </tbody>\n",
       "</table>\n",
       "<p>69 rows × 5 columns</p>\n",
       "</div>"
      ],
      "text/plain": [
       "                         name  rating_x  total ratings_x  rating_y  \\\n",
       "0   Ace's Place Bar Grill Hub  3.500000               68  8.200000   \n",
       "1       Actinolite Restaurant  4.000000             1290  7.900000   \n",
       "2                     Aloette  4.000000             7268  8.400000   \n",
       "3        Antler Kitchen & Bar  4.500000             5780  8.500000   \n",
       "4                     Bar Hop  3.500000             3960  8.700000   \n",
       "..                        ...       ...              ...       ...   \n",
       "64                Tim Hortons  2.777778            34768  7.062385   \n",
       "65              Timothy's Pub  4.000000               44  7.200000   \n",
       "66               Voodoo Child  4.000000             3976  8.800000   \n",
       "67     Walrus Pub & Beer Hall  3.500000              474  8.200000   \n",
       "68                     Wynona  4.500000              930  8.400000   \n",
       "\n",
       "   total ratings_y  \n",
       "0               24  \n",
       "1              540  \n",
       "2             3082  \n",
       "3             1160  \n",
       "4            15279  \n",
       "..             ...  \n",
       "64          154602  \n",
       "65              46  \n",
       "66            4144  \n",
       "67             342  \n",
       "68             240  \n",
       "\n",
       "[69 rows x 5 columns]"
      ]
     },
     "execution_count": 540,
     "metadata": {},
     "output_type": "execute_result"
    }
   ],
   "source": [
    "aggregated_df"
   ]
  },
  {
   "cell_type": "markdown",
   "metadata": {},
   "source": [
    "#### Now I can create an weighted average for the ratings between the yelp and the FS ratings, then append it to the aggregated_df\n",
    "#### Note: Since the ratings systems are different, I made an adjustement to the yelp ratings by multiplying them by 2"
   ]
  },
  {
   "cell_type": "code",
   "execution_count": 541,
   "metadata": {},
   "outputs": [],
   "source": [
    "weighted_avg_rating = []\n",
    "for index, row in aggregated_df.iterrows():\n",
    "    # multiply by the yelp rating by 2 here because the yelp uses a 5 point scale, whereas FS uses a 10 point scale\n",
    "    yelp_rating = 2*row['rating_x']\n",
    "    yelp_num_ratings = row['total ratings_x']\n",
    "    FS_rating = row['rating_y']\n",
    "    FS_num_ratings = row['total ratings_y']\n",
    "    total_ratings = FS_num_ratings + yelp_num_ratings\n",
    "    \n",
    "    weighted_avg = ((FS_rating*FS_num_ratings) + (yelp_rating*yelp_num_ratings)) / total_ratings\n",
    "    \n",
    "    weighted_avg_rating.append(weighted_avg)"
   ]
  },
  {
   "cell_type": "code",
   "execution_count": 542,
   "metadata": {},
   "outputs": [],
   "source": [
    "#adding the weighted average of the ratings to the df\n",
    "aggregated_df['avg rating']=weighted_avg_rating"
   ]
  },
  {
   "cell_type": "code",
   "execution_count": 543,
   "metadata": {},
   "outputs": [
    {
     "data": {
      "text/html": [
       "<div>\n",
       "<style scoped>\n",
       "    .dataframe tbody tr th:only-of-type {\n",
       "        vertical-align: middle;\n",
       "    }\n",
       "\n",
       "    .dataframe tbody tr th {\n",
       "        vertical-align: top;\n",
       "    }\n",
       "\n",
       "    .dataframe thead th {\n",
       "        text-align: right;\n",
       "    }\n",
       "</style>\n",
       "<table border=\"1\" class=\"dataframe\">\n",
       "  <thead>\n",
       "    <tr style=\"text-align: right;\">\n",
       "      <th></th>\n",
       "      <th>name</th>\n",
       "      <th>rating_x</th>\n",
       "      <th>total ratings_x</th>\n",
       "      <th>rating_y</th>\n",
       "      <th>total ratings_y</th>\n",
       "      <th>avg rating</th>\n",
       "    </tr>\n",
       "  </thead>\n",
       "  <tbody>\n",
       "    <tr>\n",
       "      <th>39</th>\n",
       "      <td>New Orleans Seafood &amp; Steakhouse</td>\n",
       "      <td>5.0</td>\n",
       "      <td>172</td>\n",
       "      <td>8.1</td>\n",
       "      <td>16</td>\n",
       "      <td>9.838298</td>\n",
       "    </tr>\n",
       "    <tr>\n",
       "      <th>46</th>\n",
       "      <td>Rasa</td>\n",
       "      <td>4.5</td>\n",
       "      <td>11118</td>\n",
       "      <td>9.2</td>\n",
       "      <td>3978</td>\n",
       "      <td>9.052703</td>\n",
       "    </tr>\n",
       "    <tr>\n",
       "      <th>26</th>\n",
       "      <td>George Restaurant</td>\n",
       "      <td>4.5</td>\n",
       "      <td>596</td>\n",
       "      <td>8.8</td>\n",
       "      <td>212</td>\n",
       "      <td>8.947525</td>\n",
       "    </tr>\n",
       "    <tr>\n",
       "      <th>3</th>\n",
       "      <td>Antler Kitchen &amp; Bar</td>\n",
       "      <td>4.5</td>\n",
       "      <td>5780</td>\n",
       "      <td>8.5</td>\n",
       "      <td>1160</td>\n",
       "      <td>8.916427</td>\n",
       "    </tr>\n",
       "    <tr>\n",
       "      <th>27</th>\n",
       "      <td>Gingerman Restaurant</td>\n",
       "      <td>4.5</td>\n",
       "      <td>140</td>\n",
       "      <td>8.1</td>\n",
       "      <td>16</td>\n",
       "      <td>8.907692</td>\n",
       "    </tr>\n",
       "    <tr>\n",
       "      <th>29</th>\n",
       "      <td>Grey Gardens</td>\n",
       "      <td>4.5</td>\n",
       "      <td>3741</td>\n",
       "      <td>8.7</td>\n",
       "      <td>1769</td>\n",
       "      <td>8.903684</td>\n",
       "    </tr>\n",
       "    <tr>\n",
       "      <th>68</th>\n",
       "      <td>Wynona</td>\n",
       "      <td>4.5</td>\n",
       "      <td>930</td>\n",
       "      <td>8.4</td>\n",
       "      <td>240</td>\n",
       "      <td>8.876923</td>\n",
       "    </tr>\n",
       "    <tr>\n",
       "      <th>6</th>\n",
       "      <td>Bellwoods Brewery</td>\n",
       "      <td>4.0</td>\n",
       "      <td>10590</td>\n",
       "      <td>9.3</td>\n",
       "      <td>19200</td>\n",
       "      <td>8.837865</td>\n",
       "    </tr>\n",
       "    <tr>\n",
       "      <th>13</th>\n",
       "      <td>Cluck Clucks</td>\n",
       "      <td>4.5</td>\n",
       "      <td>296</td>\n",
       "      <td>8.1</td>\n",
       "      <td>78</td>\n",
       "      <td>8.812299</td>\n",
       "    </tr>\n",
       "    <tr>\n",
       "      <th>37</th>\n",
       "      <td>Mary Be Kitchen</td>\n",
       "      <td>4.5</td>\n",
       "      <td>525</td>\n",
       "      <td>7.6</td>\n",
       "      <td>105</td>\n",
       "      <td>8.766667</td>\n",
       "    </tr>\n",
       "  </tbody>\n",
       "</table>\n",
       "</div>"
      ],
      "text/plain": [
       "                                name  rating_x  total ratings_x  rating_y  \\\n",
       "39  New Orleans Seafood & Steakhouse       5.0              172       8.1   \n",
       "46                              Rasa       4.5            11118       9.2   \n",
       "26                 George Restaurant       4.5              596       8.8   \n",
       "3               Antler Kitchen & Bar       4.5             5780       8.5   \n",
       "27              Gingerman Restaurant       4.5              140       8.1   \n",
       "29                      Grey Gardens       4.5             3741       8.7   \n",
       "68                            Wynona       4.5              930       8.4   \n",
       "6                  Bellwoods Brewery       4.0            10590       9.3   \n",
       "13                      Cluck Clucks       4.5              296       8.1   \n",
       "37                   Mary Be Kitchen       4.5              525       7.6   \n",
       "\n",
       "   total ratings_y  avg rating  \n",
       "39              16    9.838298  \n",
       "46            3978    9.052703  \n",
       "26             212    8.947525  \n",
       "3             1160    8.916427  \n",
       "27              16    8.907692  \n",
       "29            1769    8.903684  \n",
       "68             240    8.876923  \n",
       "6            19200    8.837865  \n",
       "13              78    8.812299  \n",
       "37             105    8.766667  "
      ]
     },
     "execution_count": 543,
     "metadata": {},
     "output_type": "execute_result"
    }
   ],
   "source": [
    "#sort the df by avg rating, descending order\n",
    "aggregated_df.sort_values(by='avg rating', ascending=False).head(10)"
   ]
  },
  {
   "cell_type": "code",
   "execution_count": null,
   "metadata": {},
   "outputs": [],
   "source": []
  },
  {
   "cell_type": "markdown",
   "metadata": {},
   "source": [
    "### Now we have our list of the top 10 restuarants according to their ratings:"
   ]
  },
  {
   "cell_type": "markdown",
   "metadata": {},
   "source": [
    "#### 1. New Orleans Seafood & Steakhouse\n",
    "#### 2. Rasa\n",
    "#### 3. George Restaurant\n",
    "#### 4. Antler Kitchen & Bar\n",
    "#### 5. Gingerman Restaurant\n",
    "#### 6. Grey Gardens\n",
    "#### 7. Wynona\n",
    "#### 8. Bellwoods Brewery\n",
    "#### 9. Cluck Clucks\n",
    "#### 10. Mary Be Kitchen"
   ]
  },
  {
   "cell_type": "code",
   "execution_count": null,
   "metadata": {},
   "outputs": [],
   "source": []
  },
  {
   "cell_type": "code",
   "execution_count": null,
   "metadata": {},
   "outputs": [],
   "source": []
  },
  {
   "cell_type": "raw",
   "metadata": {},
   "source": []
>>>>>>> 92154ef (Initial commit)
  }
 ],
 "metadata": {
  "kernelspec": {
<<<<<<< HEAD
   "display_name": "Python 3",
=======
   "display_name": "Python 3 (ipykernel)",
>>>>>>> 92154ef (Initial commit)
   "language": "python",
   "name": "python3"
  },
  "language_info": {
   "codemirror_mode": {
    "name": "ipython",
    "version": 3
   },
   "file_extension": ".py",
   "mimetype": "text/x-python",
   "name": "python",
   "nbconvert_exporter": "python",
   "pygments_lexer": "ipython3",
<<<<<<< HEAD
   "version": "3.8.5"
=======
   "version": "3.10.9"
>>>>>>> 92154ef (Initial commit)
  }
 },
 "nbformat": 4,
 "nbformat_minor": 4
}
