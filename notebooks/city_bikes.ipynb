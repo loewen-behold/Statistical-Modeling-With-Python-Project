{
 "cells": [
  {
<<<<<<< HEAD
=======
   "cell_type": "code",
   "execution_count": 23,
   "metadata": {},
   "outputs": [],
   "source": [
    "#imports\n",
    "import requests\n",
    "import pandas as pd"
   ]
  },
  {
>>>>>>> 92154ef (Initial commit)
   "cell_type": "markdown",
   "metadata": {},
   "source": [
    "# CityBikes"
   ]
  },
  {
   "cell_type": "markdown",
   "metadata": {},
   "source": [
<<<<<<< HEAD
    "Send a request to CityBikes for the city of your choice. "
=======
    "### Send a request to CityBikes for the city of your choice. "
   ]
  },
  {
   "cell_type": "code",
   "execution_count": 24,
   "metadata": {},
   "outputs": [],
   "source": [
    "url = 'http://api.citybik.es/v2/networks'\n",
    "results = requests.get(url)"
   ]
  },
  {
   "cell_type": "code",
   "execution_count": 25,
   "metadata": {},
   "outputs": [],
   "source": [
    "city_bikes = results.json()"
   ]
  },
  {
   "cell_type": "code",
   "execution_count": 26,
   "metadata": {},
   "outputs": [
    {
     "data": {
      "text/plain": [
       "'https://tor.publicbikesystem.net/ube/gbfs/v1/'"
      ]
     },
     "execution_count": 26,
     "metadata": {},
     "output_type": "execute_result"
    }
   ],
   "source": [
    "for company in city_bikes['networks']:\n",
    "    if company['location']['city'] == 'Toronto, ON':\n",
    "        toronto_url = company['gbfs_href']\n",
    "        \n",
    "toronto_url"
   ]
  },
  {
   "cell_type": "code",
   "execution_count": 27,
   "metadata": {},
   "outputs": [],
   "source": [
    "toronto_res = requests.get(toronto_url).json()"
   ]
  },
  {
   "cell_type": "code",
   "execution_count": 28,
   "metadata": {},
   "outputs": [
    {
     "data": {
      "text/plain": [
       "{'last_updated': 1693427377,\n",
       " 'ttl': 0,\n",
       " 'data': {'en': {'feeds': [{'name': 'station_information',\n",
       "     'url': 'https://toronto.publicbikesystem.net/customer/ube/gbfs/v1/en/station_information'},\n",
       "    {'name': 'station_status',\n",
       "     'url': 'https://toronto.publicbikesystem.net/customer/ube/gbfs/v1/en/station_status'},\n",
       "    {'name': 'system_regions',\n",
       "     'url': 'https://toronto.publicbikesystem.net/customer/ube/gbfs/v1/en/system_regions'},\n",
       "    {'name': 'system_information',\n",
       "     'url': 'https://toronto.publicbikesystem.net/customer/ube/gbfs/v1/en/system_information'},\n",
       "    {'name': 'system_pricing_plans',\n",
       "     'url': 'https://toronto.publicbikesystem.net/customer/ube/gbfs/v1/en/system_pricing_plans'},\n",
       "    {'name': 'nearby_stations',\n",
       "     'url': 'https://toronto.publicbikesystem.net/customer/ube/gbfs/v1/en/station_information/{station_id}/nearby_stations'}]}}}"
      ]
     },
     "execution_count": 28,
     "metadata": {},
     "output_type": "execute_result"
    }
   ],
   "source": [
    "toronto_res"
   ]
  },
  {
   "cell_type": "markdown",
   "metadata": {},
   "source": [
    "### Note: I was unable to access the \"https://toronto-comet.publicbikesystem.net\" site without having an existing login in order to explore the documentation of this particular API, so I decided to do this manually, but grabbing requests from the the various urls listed above.  Particularly station_information and station_status."
   ]
  },
  {
   "cell_type": "code",
   "execution_count": 29,
   "metadata": {},
   "outputs": [],
   "source": [
    "station_information = requests.get('https://toronto.publicbikesystem.net/customer/ube/gbfs/v1/en/station_information').json()\n",
    "station_status = requests.get('https://toronto.publicbikesystem.net/customer/ube/gbfs/v1/en/station_status').json()\n",
    "system_information = requests.get('https://toronto.publicbikesystem.net/customer/ube/gbfs/v1/en/system_information').json()"
   ]
  },
  {
   "cell_type": "markdown",
   "metadata": {},
   "source": [
    "### Taking a look at the first couple elements in our station information and station status jsons to figure out how to parse for info"
   ]
  },
  {
   "cell_type": "code",
   "execution_count": 30,
   "metadata": {
    "tags": []
   },
   "outputs": [
    {
     "data": {
      "text/plain": [
       "[{'station_id': '7000',\n",
       "  'name': 'Fort York  Blvd / Capreol Ct',\n",
       "  'physical_configuration': 'REGULAR',\n",
       "  'lat': 43.639832,\n",
       "  'lon': -79.395954,\n",
       "  'altitude': 0.0,\n",
       "  'address': 'Fort York  Blvd / Capreol Ct',\n",
       "  'capacity': 35,\n",
       "  'is_charging_station': False,\n",
       "  'rental_methods': ['KEY', 'TRANSITCARD', 'CREDITCARD', 'PHONE'],\n",
       "  'groups': [],\n",
       "  'obcn': '647-643-9607',\n",
       "  'nearby_distance': 500.0,\n",
       "  '_ride_code_support': True,\n",
       "  'rental_uris': {}},\n",
       " {'station_id': '7001',\n",
       "  'name': 'Wellesley Station Green P',\n",
       "  'physical_configuration': 'ELECTRICBIKESTATION',\n",
       "  'lat': 43.66496415990742,\n",
       "  'lon': -79.38355031526893,\n",
       "  'altitude': 0.0,\n",
       "  'address': 'Yonge / Wellesley',\n",
       "  'post_code': 'M4Y 1G7',\n",
       "  'capacity': 23,\n",
       "  'is_charging_station': True,\n",
       "  'rental_methods': ['KEY', 'TRANSITCARD', 'CREDITCARD', 'PHONE'],\n",
       "  'groups': [],\n",
       "  'obcn': '416-617-9576',\n",
       "  'nearby_distance': 500.0,\n",
       "  '_ride_code_support': True,\n",
       "  'rental_uris': {}}]"
      ]
     },
     "execution_count": 30,
     "metadata": {},
     "output_type": "execute_result"
    }
   ],
   "source": [
    "station_information['data']['stations'][:2]"
   ]
  },
  {
   "cell_type": "code",
   "execution_count": 31,
   "metadata": {},
   "outputs": [
    {
     "data": {
      "text/plain": [
       "[{'station_id': '7000',\n",
       "  'num_bikes_available': 29,\n",
       "  'num_bikes_available_types': {'mechanical': 29, 'ebike': 0},\n",
       "  'num_bikes_disabled': 0,\n",
       "  'num_docks_available': 5,\n",
       "  'num_docks_disabled': 1,\n",
       "  'last_reported': 1693427253,\n",
       "  'is_charging_station': False,\n",
       "  'status': 'IN_SERVICE',\n",
       "  'is_installed': 1,\n",
       "  'is_renting': 1,\n",
       "  'is_returning': 1,\n",
       "  'traffic': None},\n",
       " {'station_id': '7001',\n",
       "  'num_bikes_available': 3,\n",
       "  'num_bikes_available_types': {'mechanical': 3, 'ebike': 0},\n",
       "  'num_bikes_disabled': 13,\n",
       "  'num_docks_available': 7,\n",
       "  'num_docks_disabled': 0,\n",
       "  'last_reported': 1693427248,\n",
       "  'is_charging_station': True,\n",
       "  'status': 'IN_SERVICE',\n",
       "  'is_installed': 1,\n",
       "  'is_renting': 1,\n",
       "  'is_returning': 1,\n",
       "  'traffic': None}]"
      ]
     },
     "execution_count": 31,
     "metadata": {},
     "output_type": "execute_result"
    }
   ],
   "source": [
    "#taking a look at the first couple elements in our station status json\n",
    "station_status['data']['stations'][:2]"
>>>>>>> 92154ef (Initial commit)
   ]
  },
  {
   "cell_type": "code",
   "execution_count": null,
   "metadata": {},
   "outputs": [],
   "source": []
  },
  {
   "cell_type": "markdown",
   "metadata": {},
   "source": [
<<<<<<< HEAD
    "Parse through the response to get the details you want for the bike stations in that city (latitude, longitude, number of bikes). "
=======
    "### Parse through the response to get the details you want for the bike stations in that city (latitude, longitude, number of bikes). "
   ]
  },
  {
   "cell_type": "code",
   "execution_count": 32,
   "metadata": {},
   "outputs": [],
   "source": [
    "station_information = station_information['data']['stations']\n",
    "station_status = station_status['data']['stations']"
   ]
  },
  {
   "cell_type": "code",
   "execution_count": 33,
   "metadata": {},
   "outputs": [],
   "source": [
    "#create lists that contain the different tpyes of information we want.\n",
    "station_id = []\n",
    "name = []\n",
    "latitude = []\n",
    "longitude = []\n",
    "num_bikes = []\n",
    "\n",
    "for station in station_information:\n",
    "    station_id.append(station['station_id'])\n",
    "    name.append(station['name'])\n",
    "    latitude.append(station['lat'])\n",
    "    longitude.append(station['lon'])\n",
    "    for item in station_status:\n",
    "        if item['station_id'] == station['station_id']:\n",
    "            num_bikes.append(item['num_bikes_available'])"
>>>>>>> 92154ef (Initial commit)
   ]
  },
  {
   "cell_type": "code",
   "execution_count": null,
   "metadata": {},
   "outputs": [],
   "source": []
  },
  {
   "cell_type": "markdown",
   "metadata": {},
   "source": [
<<<<<<< HEAD
    "Put your parsed results into a DataFrame."
=======
    "### Put your parsed results into a DataFrame."
   ]
  },
  {
   "cell_type": "code",
   "execution_count": 34,
   "metadata": {},
   "outputs": [],
   "source": [
    "#create the dataframe using our lists\n",
    "toronto_bike_stations_data = {'station_id': station_id, 'name': name, 'latitude': latitude, \\\n",
    "                              'longitude': longitude, 'number of bikes': num_bikes}\n",
    "\n",
    "df_tbs = pd.DataFrame(toronto_bike_stations_data)"
   ]
  },
  {
   "cell_type": "code",
   "execution_count": 35,
   "metadata": {},
   "outputs": [
    {
     "data": {
      "text/html": [
       "<div>\n",
       "<style scoped>\n",
       "    .dataframe tbody tr th:only-of-type {\n",
       "        vertical-align: middle;\n",
       "    }\n",
       "\n",
       "    .dataframe tbody tr th {\n",
       "        vertical-align: top;\n",
       "    }\n",
       "\n",
       "    .dataframe thead th {\n",
       "        text-align: right;\n",
       "    }\n",
       "</style>\n",
       "<table border=\"1\" class=\"dataframe\">\n",
       "  <thead>\n",
       "    <tr style=\"text-align: right;\">\n",
       "      <th></th>\n",
       "      <th>station_id</th>\n",
       "      <th>name</th>\n",
       "      <th>latitude</th>\n",
       "      <th>longitude</th>\n",
       "      <th>number of bikes</th>\n",
       "    </tr>\n",
       "  </thead>\n",
       "  <tbody>\n",
       "    <tr>\n",
       "      <th>0</th>\n",
       "      <td>7000</td>\n",
       "      <td>Fort York  Blvd / Capreol Ct</td>\n",
       "      <td>43.639832</td>\n",
       "      <td>-79.395954</td>\n",
       "      <td>29</td>\n",
       "    </tr>\n",
       "    <tr>\n",
       "      <th>1</th>\n",
       "      <td>7001</td>\n",
       "      <td>Wellesley Station Green P</td>\n",
       "      <td>43.664964</td>\n",
       "      <td>-79.383550</td>\n",
       "      <td>3</td>\n",
       "    </tr>\n",
       "    <tr>\n",
       "      <th>2</th>\n",
       "      <td>7002</td>\n",
       "      <td>St. George St / Bloor St W</td>\n",
       "      <td>43.667333</td>\n",
       "      <td>-79.399429</td>\n",
       "      <td>10</td>\n",
       "    </tr>\n",
       "    <tr>\n",
       "      <th>3</th>\n",
       "      <td>7003</td>\n",
       "      <td>Madison Ave / Bloor St W</td>\n",
       "      <td>43.667158</td>\n",
       "      <td>-79.402761</td>\n",
       "      <td>3</td>\n",
       "    </tr>\n",
       "    <tr>\n",
       "      <th>4</th>\n",
       "      <td>7004</td>\n",
       "      <td>University Ave / Elm St</td>\n",
       "      <td>43.656518</td>\n",
       "      <td>-79.389099</td>\n",
       "      <td>0</td>\n",
       "    </tr>\n",
       "  </tbody>\n",
       "</table>\n",
       "</div>"
      ],
      "text/plain": [
       "  station_id                          name   latitude  longitude  \\\n",
       "0       7000  Fort York  Blvd / Capreol Ct  43.639832 -79.395954   \n",
       "1       7001     Wellesley Station Green P  43.664964 -79.383550   \n",
       "2       7002    St. George St / Bloor St W  43.667333 -79.399429   \n",
       "3       7003      Madison Ave / Bloor St W  43.667158 -79.402761   \n",
       "4       7004       University Ave / Elm St  43.656518 -79.389099   \n",
       "\n",
       "   number of bikes  \n",
       "0               29  \n",
       "1                3  \n",
       "2               10  \n",
       "3                3  \n",
       "4                0  "
      ]
     },
     "execution_count": 35,
     "metadata": {},
     "output_type": "execute_result"
    }
   ],
   "source": [
    "df_tbs.head()"
   ]
  },
  {
   "cell_type": "code",
   "execution_count": null,
   "metadata": {},
   "outputs": [],
   "source": []
  },
  {
   "cell_type": "markdown",
   "metadata": {},
   "source": [
    "### Saving this dataframe to a csv file so we can use it in the other notebooks\n",
    "#### NOTE:  This is being saved to the \"notebook\" folder, but my original database that I used in the project is saved in the \"data\" folder.  In order to avoid overwriting the original, I've made sure to change the file path."
   ]
  },
  {
   "cell_type": "code",
   "execution_count": 36,
   "metadata": {},
   "outputs": [],
   "source": [
    "df_tbs.to_csv('df_tbs.csv')"
   ]
  },
  {
   "cell_type": "code",
   "execution_count": null,
   "metadata": {},
   "outputs": [],
   "source": []
  },
  {
   "cell_type": "markdown",
   "metadata": {},
   "source": [
    "#### I've inluded this so you can see the original dataframe I used when completing this project.  You'll likely notice a difference in the number of bikes column.  All other station information will have remained the same."
   ]
  },
  {
   "cell_type": "code",
   "execution_count": 37,
   "metadata": {},
   "outputs": [
    {
     "data": {
      "text/html": [
       "<div>\n",
       "<style scoped>\n",
       "    .dataframe tbody tr th:only-of-type {\n",
       "        vertical-align: middle;\n",
       "    }\n",
       "\n",
       "    .dataframe tbody tr th {\n",
       "        vertical-align: top;\n",
       "    }\n",
       "\n",
       "    .dataframe thead th {\n",
       "        text-align: right;\n",
       "    }\n",
       "</style>\n",
       "<table border=\"1\" class=\"dataframe\">\n",
       "  <thead>\n",
       "    <tr style=\"text-align: right;\">\n",
       "      <th></th>\n",
       "      <th>station_id</th>\n",
       "      <th>name</th>\n",
       "      <th>latitude</th>\n",
       "      <th>longitude</th>\n",
       "      <th>number of bikes</th>\n",
       "    </tr>\n",
       "  </thead>\n",
       "  <tbody>\n",
       "    <tr>\n",
       "      <th>0</th>\n",
       "      <td>7000</td>\n",
       "      <td>Fort York  Blvd / Capreol Ct</td>\n",
       "      <td>43.639832</td>\n",
       "      <td>-79.395954</td>\n",
       "      <td>34</td>\n",
       "    </tr>\n",
       "    <tr>\n",
       "      <th>1</th>\n",
       "      <td>7001</td>\n",
       "      <td>Wellesley Station Green P</td>\n",
       "      <td>43.664964</td>\n",
       "      <td>-79.383550</td>\n",
       "      <td>16</td>\n",
       "    </tr>\n",
       "    <tr>\n",
       "      <th>2</th>\n",
       "      <td>7002</td>\n",
       "      <td>St. George St / Bloor St W</td>\n",
       "      <td>43.667333</td>\n",
       "      <td>-79.399429</td>\n",
       "      <td>3</td>\n",
       "    </tr>\n",
       "    <tr>\n",
       "      <th>3</th>\n",
       "      <td>7003</td>\n",
       "      <td>Madison Ave / Bloor St W</td>\n",
       "      <td>43.667158</td>\n",
       "      <td>-79.402761</td>\n",
       "      <td>4</td>\n",
       "    </tr>\n",
       "    <tr>\n",
       "      <th>4</th>\n",
       "      <td>7004</td>\n",
       "      <td>University Ave / Elm St</td>\n",
       "      <td>43.656518</td>\n",
       "      <td>-79.389099</td>\n",
       "      <td>0</td>\n",
       "    </tr>\n",
       "  </tbody>\n",
       "</table>\n",
       "</div>"
      ],
      "text/plain": [
       "   station_id                          name   latitude  longitude  \\\n",
       "0        7000  Fort York  Blvd / Capreol Ct  43.639832 -79.395954   \n",
       "1        7001     Wellesley Station Green P  43.664964 -79.383550   \n",
       "2        7002    St. George St / Bloor St W  43.667333 -79.399429   \n",
       "3        7003      Madison Ave / Bloor St W  43.667158 -79.402761   \n",
       "4        7004       University Ave / Elm St  43.656518 -79.389099   \n",
       "\n",
       "   number of bikes  \n",
       "0               34  \n",
       "1               16  \n",
       "2                3  \n",
       "3                4  \n",
       "4                0  "
      ]
     },
     "execution_count": 37,
     "metadata": {},
     "output_type": "execute_result"
    }
   ],
   "source": [
    "df_tbs = pd.read_csv('../data/df_tbs.csv', index_col=0)\n",
    "df_tbs.head()"
   ]
  },
  {
   "cell_type": "code",
   "execution_count": null,
   "metadata": {},
   "outputs": [],
   "source": []
  },
  {
   "cell_type": "markdown",
   "metadata": {},
   "source": [
    "## Exploring the data a little bit and QA my collected results where possible"
   ]
  },
  {
   "cell_type": "markdown",
   "metadata": {},
   "source": [
    "#### We can see below that the number of stations we collected information for is the same as the total number of stations listed in the system_information json"
   ]
  },
  {
   "cell_type": "code",
   "execution_count": 38,
   "metadata": {
    "tags": []
   },
   "outputs": [
    {
     "data": {
      "text/plain": [
       "(689, 5)"
      ]
     },
     "execution_count": 38,
     "metadata": {},
     "output_type": "execute_result"
    }
   ],
   "source": [
    "df_tbs.shape"
   ]
  },
  {
   "cell_type": "code",
   "execution_count": 39,
   "metadata": {},
   "outputs": [
    {
     "data": {
      "text/plain": [
       "695"
      ]
     },
     "execution_count": 39,
     "metadata": {},
     "output_type": "execute_result"
    }
   ],
   "source": [
    "system_information['data']['_station_count']"
   ]
  },
  {
   "cell_type": "markdown",
   "metadata": {
    "tags": []
   },
   "source": [
    "### One place where our values differ from the system information is the sum of the 'number of bikes' compared with the total number of bikes"
   ]
  },
  {
   "cell_type": "code",
   "execution_count": 40,
   "metadata": {},
   "outputs": [
    {
     "data": {
      "text/plain": [
       "5847"
      ]
     },
     "execution_count": 40,
     "metadata": {},
     "output_type": "execute_result"
    }
   ],
   "source": [
    "df_tbs['number of bikes'].sum()"
   ]
  },
  {
   "cell_type": "code",
   "execution_count": 41,
   "metadata": {
    "tags": []
   },
   "outputs": [
    {
     "data": {
      "text/plain": [
       "{'_mechanical_count': 8051, '_ebike_count': 825}"
      ]
     },
     "execution_count": 41,
     "metadata": {},
     "output_type": "execute_result"
    }
   ],
   "source": [
    "system_information['data']['_vehicle_count']"
   ]
  },
  {
   "cell_type": "code",
   "execution_count": null,
   "metadata": {},
   "outputs": [],
   "source": []
  },
  {
   "cell_type": "markdown",
   "metadata": {},
   "source": [
    "### **This discrepancy is due to the following assumptions, data collection decisions:**\n",
    "#### - The 'num_bikes_available' from the station_status json lists only the bikes available at the station at the moment the API was called\n",
    "#### - The 'num_bikes_available' is a total of both mechanical and electric bikes\n",
    "#### - Since bikes do not \"belong\" to any particular station, it doesn't make sense to have a key such as \"number_of_missing_bikes\" in the station_status"
   ]
  },
  {
   "cell_type": "markdown",
   "metadata": {},
   "source": [
    "### **Some things we could do if we wanted a more detailed dataframe (or if it was needed):**\n",
    "#### - Break down the counts between electric and mechanical\n",
    "#### - Subtract the total number of bikes from the total number of bikes available to know exactly how many bikes are missing at any given moment.\n",
    "#### ie. $$number\\ of\\ mechanical\\ bikes\\ missing = \\ mechanical\\ count - total\\ number\\ of\\ mechanical\\ bikes\\ available$$"
   ]
  },
  {
   "cell_type": "code",
   "execution_count": null,
   "metadata": {},
   "outputs": [],
   "source": []
  },
  {
   "cell_type": "markdown",
   "metadata": {},
   "source": [
    "### For demonstration purposes only, let's find out how many bikes (both electric and mechanical) were missing at the moment we called our API earlier."
   ]
  },
  {
   "cell_type": "code",
   "execution_count": 42,
   "metadata": {},
   "outputs": [
    {
     "name": "stdout",
     "output_type": "stream",
     "text": [
      "The total number of bikes missing at the time of our API call was: 3029\n"
     ]
    }
   ],
   "source": [
    "total_num_bikes = system_information['data']['_vehicle_count']['_mechanical_count'] + \\\n",
    "                                                    system_information['data']['_vehicle_count']['_ebike_count']\n",
    "total_bikes_avail = df_tbs['number of bikes'].sum()\n",
    "\n",
    "num_missing_bikes = total_num_bikes - total_bikes_avail\n",
    "print(f'The total number of bikes missing at the time of our API call was: {num_missing_bikes}')"
>>>>>>> 92154ef (Initial commit)
   ]
  },
  {
   "cell_type": "code",
   "execution_count": null,
   "metadata": {},
   "outputs": [],
   "source": []
  }
 ],
 "metadata": {
  "kernelspec": {
<<<<<<< HEAD
   "display_name": "Python 3",
=======
   "display_name": "Python 3 (ipykernel)",
>>>>>>> 92154ef (Initial commit)
   "language": "python",
   "name": "python3"
  },
  "language_info": {
   "codemirror_mode": {
    "name": "ipython",
    "version": 3
   },
   "file_extension": ".py",
   "mimetype": "text/x-python",
   "name": "python",
   "nbconvert_exporter": "python",
   "pygments_lexer": "ipython3",
<<<<<<< HEAD
   "version": "3.8.5"
=======
   "version": "3.10.9"
>>>>>>> 92154ef (Initial commit)
  }
 },
 "nbformat": 4,
 "nbformat_minor": 4
}
